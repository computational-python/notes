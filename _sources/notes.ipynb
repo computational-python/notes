{
 "cells": [
  {
   "cell_type": "markdown",
   "id": "201d44b4-04ff-42df-aa87-3f6116ee6bdf",
   "metadata": {},
   "source": [
    "# Lecture notes"
   ]
  },
  {
   "cell_type": "code",
   "execution_count": null,
   "id": "ecbc4fc5-cd27-4fcb-8392-24ea3913cdda",
   "metadata": {},
   "outputs": [],
   "source": []
  }
 ],
 "metadata": {
  "kernelspec": {
   "display_name": "Python 3 (ipykernel)",
   "language": "python",
   "name": "python3"
  },
  "language_info": {
   "codemirror_mode": {
    "name": "ipython",
    "version": 3
   },
   "file_extension": ".py",
   "mimetype": "text/x-python",
   "name": "python",
   "nbconvert_exporter": "python",
   "pygments_lexer": "ipython3",
   "version": "3.12.1"
  }
 },
 "nbformat": 4,
 "nbformat_minor": 5
}
