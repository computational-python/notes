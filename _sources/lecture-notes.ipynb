{
 "cells": [
  {
   "cell_type": "markdown",
   "id": "1595ced1-07fc-4576-bc5e-758605fc99a6",
   "metadata": {},
   "source": [
    "# Lecture notes\n",
    "\n",
    "## Sample text cello\n",
    "\n",
    "with latex code\n",
    "\n",
    "$$ f(x) = x^2 $$"
   ]
  },
  {
   "cell_type": "code",
   "execution_count": 8,
   "id": "530b44a3-433b-400f-a61a-be98bd263ab6",
   "metadata": {},
   "outputs": [
    {
     "name": "stdout",
     "output_type": "stream",
     "text": [
      "Hello world\n"
     ]
    }
   ],
   "source": [
    "print(\"Hello world\")"
   ]
  },
  {
   "cell_type": "markdown",
   "id": "ef7249a1-c685-4631-b03a-a908fd713fd4",
   "metadata": {},
   "source": [
    "## Data types"
   ]
  },
  {
   "cell_type": "code",
   "execution_count": 9,
   "id": "9c92fc00-5c1c-41ef-8e0e-14404569bac4",
   "metadata": {},
   "outputs": [
    {
     "data": {
      "text/plain": [
       "int"
      ]
     },
     "execution_count": 9,
     "metadata": {},
     "output_type": "execute_result"
    }
   ],
   "source": [
    "type(8)"
   ]
  },
  {
   "cell_type": "code",
   "execution_count": 10,
   "id": "d9a51854-aae5-4944-ba3f-cd30c839511f",
   "metadata": {},
   "outputs": [
    {
     "data": {
      "text/plain": [
       "float"
      ]
     },
     "execution_count": 10,
     "metadata": {},
     "output_type": "execute_result"
    }
   ],
   "source": [
    "type(3.14)"
   ]
  },
  {
   "cell_type": "code",
   "execution_count": 11,
   "id": "8dc2caf5-5632-45c4-bf73-2f4a9dafc4ee",
   "metadata": {},
   "outputs": [
    {
     "data": {
      "text/plain": [
       "complex"
      ]
     },
     "execution_count": 11,
     "metadata": {},
     "output_type": "execute_result"
    }
   ],
   "source": [
    "type(1j)"
   ]
  },
  {
   "cell_type": "code",
   "execution_count": 12,
   "id": "a5f44afe-6380-4250-861f-0727c103a91f",
   "metadata": {},
   "outputs": [
    {
     "data": {
      "text/plain": [
       "(-1+0j)"
      ]
     },
     "execution_count": 12,
     "metadata": {},
     "output_type": "execute_result"
    }
   ],
   "source": [
    "1j * 1j"
   ]
  },
  {
   "cell_type": "code",
   "execution_count": 13,
   "id": "18b0145f-44e3-48e5-8a64-6b65d8034ef6",
   "metadata": {},
   "outputs": [
    {
     "data": {
      "text/plain": [
       "3.5"
      ]
     },
     "execution_count": 13,
     "metadata": {},
     "output_type": "execute_result"
    }
   ],
   "source": [
    "7/2"
   ]
  },
  {
   "cell_type": "code",
   "execution_count": 14,
   "id": "e219adaa-b2a4-447e-adac-44c6a90c3565",
   "metadata": {},
   "outputs": [
    {
     "data": {
      "text/plain": [
       "3"
      ]
     },
     "execution_count": 14,
     "metadata": {},
     "output_type": "execute_result"
    }
   ],
   "source": [
    "7//2\n"
   ]
  },
  {
   "cell_type": "code",
   "execution_count": 15,
   "id": "866dee3b-4470-462d-8da0-cebddbc8d285",
   "metadata": {},
   "outputs": [
    {
     "name": "stdout",
     "output_type": "stream",
     "text": [
      "It's time\n"
     ]
    }
   ],
   "source": [
    "print(\"It's time\")"
   ]
  },
  {
   "cell_type": "code",
   "execution_count": 17,
   "id": "9966caff-d6d3-4468-a2e3-90d04373749d",
   "metadata": {},
   "outputs": [
    {
     "ename": "SyntaxError",
     "evalue": "unterminated string literal (detected at line 1) (2406348182.py, line 1)",
     "output_type": "error",
     "traceback": [
      "\u001b[0;36m  Cell \u001b[0;32mIn[17], line 1\u001b[0;36m\u001b[0m\n\u001b[0;31m    print('It's time')\u001b[0m\n\u001b[0m                    ^\u001b[0m\n\u001b[0;31mSyntaxError\u001b[0m\u001b[0;31m:\u001b[0m unterminated string literal (detected at line 1)\n"
     ]
    }
   ],
   "source": [
    "print('It's time')\n"
   ]
  },
  {
   "cell_type": "code",
   "execution_count": 18,
   "id": "2cd3eae0-2d18-4b8a-925d-68805d74efb8",
   "metadata": {},
   "outputs": [
    {
     "name": "stdout",
     "output_type": "stream",
     "text": [
      "It's time\n"
     ]
    }
   ],
   "source": [
    "print('It\\'s time')\n"
   ]
  },
  {
   "cell_type": "code",
   "execution_count": 16,
   "id": "4a131eba-307e-4298-8851-6120ecbaee93",
   "metadata": {},
   "outputs": [
    {
     "name": "stdout",
     "output_type": "stream",
     "text": [
      "Our boss is \"nice\". 😀\n"
     ]
    }
   ],
   "source": [
    "print('Our boss is \"nice\". 😀')\n"
   ]
  },
  {
   "cell_type": "code",
   "execution_count": 20,
   "id": "1054e744-4d7e-4ffc-8550-4f115b1f73be",
   "metadata": {},
   "outputs": [
    {
     "name": "stdout",
     "output_type": "stream",
     "text": [
      "It's \"nice\"\n"
     ]
    }
   ],
   "source": [
    "print(\"It's \\\"nice\\\"\")"
   ]
  },
  {
   "cell_type": "code",
   "execution_count": 21,
   "id": "564876b6-03c7-4288-910a-0d737ddd8026",
   "metadata": {},
   "outputs": [
    {
     "name": "stdout",
     "output_type": "stream",
     "text": [
      "Hello\n",
      "world\n"
     ]
    }
   ],
   "source": [
    "print(\n",
    "\"\"\"Hello\n",
    "world\"\"\"\n",
    ")"
   ]
  },
  {
   "cell_type": "code",
   "execution_count": 22,
   "id": "76e652fa-25eb-4b15-9442-bc91561ce279",
   "metadata": {},
   "outputs": [
    {
     "data": {
      "text/plain": [
       "'Hello\\nworld'"
      ]
     },
     "execution_count": 22,
     "metadata": {},
     "output_type": "execute_result"
    }
   ],
   "source": [
    "\"\"\"Hello\n",
    "world\"\"\""
   ]
  },
  {
   "cell_type": "code",
   "execution_count": 23,
   "id": "978ac84d-9f60-462b-971e-a1cbd1c6c228",
   "metadata": {},
   "outputs": [
    {
     "data": {
      "text/plain": [
       "'byebye'"
      ]
     },
     "execution_count": 23,
     "metadata": {},
     "output_type": "execute_result"
    }
   ],
   "source": [
    "'bye' + 'bye'"
   ]
  },
  {
   "cell_type": "code",
   "execution_count": 24,
   "id": "d736993b-912c-4e00-a430-50b0e03fe9e6",
   "metadata": {},
   "outputs": [
    {
     "data": {
      "text/plain": [
       "'byebye'"
      ]
     },
     "execution_count": 24,
     "metadata": {},
     "output_type": "execute_result"
    }
   ],
   "source": [
    "'bye' * 2"
   ]
  },
  {
   "cell_type": "code",
   "execution_count": 25,
   "id": "b959bb32-e28d-4568-bcc6-06fd8763fcde",
   "metadata": {},
   "outputs": [
    {
     "data": {
      "text/plain": [
       "'byebyebye'"
      ]
     },
     "execution_count": 25,
     "metadata": {},
     "output_type": "execute_result"
    }
   ],
   "source": [
    "'bye' * 3"
   ]
  },
  {
   "cell_type": "code",
   "execution_count": 27,
   "id": "783d625e-dfdd-4896-bcad-6685ad8c599f",
   "metadata": {},
   "outputs": [
    {
     "data": {
      "text/plain": [
       "str"
      ]
     },
     "execution_count": 27,
     "metadata": {},
     "output_type": "execute_result"
    }
   ],
   "source": [
    "type('bye')"
   ]
  },
  {
   "cell_type": "code",
   "execution_count": 28,
   "id": "b200eaa0-4fb8-4281-b98f-cce8ce4b3c3d",
   "metadata": {},
   "outputs": [
    {
     "data": {
      "text/plain": [
       "['__add__',\n",
       " '__class__',\n",
       " '__contains__',\n",
       " '__delattr__',\n",
       " '__dir__',\n",
       " '__doc__',\n",
       " '__eq__',\n",
       " '__format__',\n",
       " '__ge__',\n",
       " '__getattribute__',\n",
       " '__getitem__',\n",
       " '__getnewargs__',\n",
       " '__getstate__',\n",
       " '__gt__',\n",
       " '__hash__',\n",
       " '__init__',\n",
       " '__init_subclass__',\n",
       " '__iter__',\n",
       " '__le__',\n",
       " '__len__',\n",
       " '__lt__',\n",
       " '__mod__',\n",
       " '__mul__',\n",
       " '__ne__',\n",
       " '__new__',\n",
       " '__reduce__',\n",
       " '__reduce_ex__',\n",
       " '__repr__',\n",
       " '__rmod__',\n",
       " '__rmul__',\n",
       " '__setattr__',\n",
       " '__sizeof__',\n",
       " '__str__',\n",
       " '__subclasshook__',\n",
       " 'capitalize',\n",
       " 'casefold',\n",
       " 'center',\n",
       " 'count',\n",
       " 'encode',\n",
       " 'endswith',\n",
       " 'expandtabs',\n",
       " 'find',\n",
       " 'format',\n",
       " 'format_map',\n",
       " 'index',\n",
       " 'isalnum',\n",
       " 'isalpha',\n",
       " 'isascii',\n",
       " 'isdecimal',\n",
       " 'isdigit',\n",
       " 'isidentifier',\n",
       " 'islower',\n",
       " 'isnumeric',\n",
       " 'isprintable',\n",
       " 'isspace',\n",
       " 'istitle',\n",
       " 'isupper',\n",
       " 'join',\n",
       " 'ljust',\n",
       " 'lower',\n",
       " 'lstrip',\n",
       " 'maketrans',\n",
       " 'partition',\n",
       " 'removeprefix',\n",
       " 'removesuffix',\n",
       " 'replace',\n",
       " 'rfind',\n",
       " 'rindex',\n",
       " 'rjust',\n",
       " 'rpartition',\n",
       " 'rsplit',\n",
       " 'rstrip',\n",
       " 'split',\n",
       " 'splitlines',\n",
       " 'startswith',\n",
       " 'strip',\n",
       " 'swapcase',\n",
       " 'title',\n",
       " 'translate',\n",
       " 'upper',\n",
       " 'zfill']"
      ]
     },
     "execution_count": 28,
     "metadata": {},
     "output_type": "execute_result"
    }
   ],
   "source": [
    "dir(str)"
   ]
  },
  {
   "cell_type": "code",
   "execution_count": 29,
   "id": "f3225952-0951-4be2-a96c-2faa1d86c708",
   "metadata": {},
   "outputs": [],
   "source": [
    "# lists"
   ]
  },
  {
   "cell_type": "code",
   "execution_count": 30,
   "id": "dfe47159-3c16-43f1-b623-c68242ce5cbc",
   "metadata": {},
   "outputs": [],
   "source": [
    "colours = []"
   ]
  },
  {
   "cell_type": "code",
   "execution_count": 31,
   "id": "ff3249fd-57ce-4711-8202-aff112da9446",
   "metadata": {},
   "outputs": [
    {
     "data": {
      "text/plain": [
       "['__add__',\n",
       " '__class__',\n",
       " '__class_getitem__',\n",
       " '__contains__',\n",
       " '__delattr__',\n",
       " '__delitem__',\n",
       " '__dir__',\n",
       " '__doc__',\n",
       " '__eq__',\n",
       " '__format__',\n",
       " '__ge__',\n",
       " '__getattribute__',\n",
       " '__getitem__',\n",
       " '__getstate__',\n",
       " '__gt__',\n",
       " '__hash__',\n",
       " '__iadd__',\n",
       " '__imul__',\n",
       " '__init__',\n",
       " '__init_subclass__',\n",
       " '__iter__',\n",
       " '__le__',\n",
       " '__len__',\n",
       " '__lt__',\n",
       " '__mul__',\n",
       " '__ne__',\n",
       " '__new__',\n",
       " '__reduce__',\n",
       " '__reduce_ex__',\n",
       " '__repr__',\n",
       " '__reversed__',\n",
       " '__rmul__',\n",
       " '__setattr__',\n",
       " '__setitem__',\n",
       " '__sizeof__',\n",
       " '__str__',\n",
       " '__subclasshook__',\n",
       " 'append',\n",
       " 'clear',\n",
       " 'copy',\n",
       " 'count',\n",
       " 'extend',\n",
       " 'index',\n",
       " 'insert',\n",
       " 'pop',\n",
       " 'remove',\n",
       " 'reverse',\n",
       " 'sort']"
      ]
     },
     "execution_count": 31,
     "metadata": {},
     "output_type": "execute_result"
    }
   ],
   "source": [
    "dir(colours)"
   ]
  },
  {
   "cell_type": "code",
   "execution_count": 32,
   "id": "1adea478-32bf-40c9-acff-5e96eabb8f29",
   "metadata": {},
   "outputs": [],
   "source": [
    "colours.append('hearts')"
   ]
  },
  {
   "cell_type": "code",
   "execution_count": 33,
   "id": "e72ffb40-756d-42c7-b1f1-d9637b5e35f6",
   "metadata": {},
   "outputs": [
    {
     "data": {
      "text/plain": [
       "['hearts']"
      ]
     },
     "execution_count": 33,
     "metadata": {},
     "output_type": "execute_result"
    }
   ],
   "source": [
    "colours\n"
   ]
  },
  {
   "cell_type": "code",
   "execution_count": 34,
   "id": "bcf501d7-2b30-4d38-8fa1-5135180b6ca9",
   "metadata": {},
   "outputs": [
    {
     "data": {
      "text/plain": [
       "['hearts', 'diamonds']"
      ]
     },
     "execution_count": 34,
     "metadata": {},
     "output_type": "execute_result"
    }
   ],
   "source": [
    "colours.append('diamonds')\n",
    "colours"
   ]
  },
  {
   "cell_type": "code",
   "execution_count": 35,
   "id": "96fba1ee-2621-446a-a901-b22211c0b7da",
   "metadata": {},
   "outputs": [],
   "source": [
    "colours = ['hearts', 'spades', 'diamonds', 'clubs']\n",
    "values = [2, 3, 4, 5, 6, 7, 8, 9, 10, 'knight', 'queen', 'king', 'ace']\n"
   ]
  },
  {
   "cell_type": "code",
   "execution_count": 37,
   "id": "b228f9c7-f8e3-45df-994f-0201515302d4",
   "metadata": {},
   "outputs": [],
   "source": [
    "card = (colours[0], values[0])"
   ]
  },
  {
   "cell_type": "code",
   "execution_count": 38,
   "id": "6f34b3f6-b6cf-4d9f-825d-6405c046d2a4",
   "metadata": {},
   "outputs": [
    {
     "data": {
      "text/plain": [
       "('hearts', 2)"
      ]
     },
     "execution_count": 38,
     "metadata": {},
     "output_type": "execute_result"
    }
   ],
   "source": [
    "card\n"
   ]
  },
  {
   "cell_type": "code",
   "execution_count": 39,
   "id": "e01910ac-01c3-4277-b818-0898b8419049",
   "metadata": {},
   "outputs": [],
   "source": [
    "deck = []"
   ]
  },
  {
   "cell_type": "code",
   "execution_count": 40,
   "id": "9b2560b2-e9ab-4360-8e57-772f61d612a1",
   "metadata": {},
   "outputs": [],
   "source": [
    "deck.append(card)"
   ]
  },
  {
   "cell_type": "code",
   "execution_count": 41,
   "id": "53fa1c6e-05a0-481d-b3eb-c5e71d1269ee",
   "metadata": {},
   "outputs": [
    {
     "data": {
      "text/plain": [
       "[('hearts', 2)]"
      ]
     },
     "execution_count": 41,
     "metadata": {},
     "output_type": "execute_result"
    }
   ],
   "source": [
    "deck"
   ]
  },
  {
   "cell_type": "code",
   "execution_count": 42,
   "id": "356cb3ff-e954-478e-b4de-b2be1127118e",
   "metadata": {},
   "outputs": [],
   "source": [
    "#looping"
   ]
  },
  {
   "cell_type": "code",
   "execution_count": 43,
   "id": "bd07a5d3-6ebc-4f1a-b892-aa0bb817028a",
   "metadata": {},
   "outputs": [
    {
     "name": "stdout",
     "output_type": "stream",
     "text": [
      "hearts\n",
      "spades\n",
      "diamonds\n",
      "clubs\n"
     ]
    }
   ],
   "source": [
    "for c in colours:\n",
    "    print(c)"
   ]
  },
  {
   "cell_type": "code",
   "execution_count": 44,
   "id": "aa424d0b-0520-407b-ac1c-18b6f8b5c084",
   "metadata": {},
   "outputs": [],
   "source": [
    "deck = []\n",
    "for c in colours:\n",
    "    for v in values:\n",
    "        deck.append((c, v))"
   ]
  },
  {
   "cell_type": "code",
   "execution_count": 45,
   "id": "8f125c03-d036-4627-b0bf-0f71d818fecf",
   "metadata": {},
   "outputs": [
    {
     "data": {
      "text/plain": [
       "[('hearts', 2),\n",
       " ('hearts', 3),\n",
       " ('hearts', 4),\n",
       " ('hearts', 5),\n",
       " ('hearts', 6),\n",
       " ('hearts', 7),\n",
       " ('hearts', 8),\n",
       " ('hearts', 9),\n",
       " ('hearts', 10),\n",
       " ('hearts', 'knight'),\n",
       " ('hearts', 'queen'),\n",
       " ('hearts', 'king'),\n",
       " ('hearts', 'ace'),\n",
       " ('spades', 2),\n",
       " ('spades', 3),\n",
       " ('spades', 4),\n",
       " ('spades', 5),\n",
       " ('spades', 6),\n",
       " ('spades', 7),\n",
       " ('spades', 8),\n",
       " ('spades', 9),\n",
       " ('spades', 10),\n",
       " ('spades', 'knight'),\n",
       " ('spades', 'queen'),\n",
       " ('spades', 'king'),\n",
       " ('spades', 'ace'),\n",
       " ('diamonds', 2),\n",
       " ('diamonds', 3),\n",
       " ('diamonds', 4),\n",
       " ('diamonds', 5),\n",
       " ('diamonds', 6),\n",
       " ('diamonds', 7),\n",
       " ('diamonds', 8),\n",
       " ('diamonds', 9),\n",
       " ('diamonds', 10),\n",
       " ('diamonds', 'knight'),\n",
       " ('diamonds', 'queen'),\n",
       " ('diamonds', 'king'),\n",
       " ('diamonds', 'ace'),\n",
       " ('clubs', 2),\n",
       " ('clubs', 3),\n",
       " ('clubs', 4),\n",
       " ('clubs', 5),\n",
       " ('clubs', 6),\n",
       " ('clubs', 7),\n",
       " ('clubs', 8),\n",
       " ('clubs', 9),\n",
       " ('clubs', 10),\n",
       " ('clubs', 'knight'),\n",
       " ('clubs', 'queen'),\n",
       " ('clubs', 'king'),\n",
       " ('clubs', 'ace')]"
      ]
     },
     "execution_count": 45,
     "metadata": {},
     "output_type": "execute_result"
    }
   ],
   "source": [
    "deck"
   ]
  },
  {
   "cell_type": "code",
   "execution_count": 46,
   "id": "74e5dd6a-b6b2-43ea-98e7-f8df11b61576",
   "metadata": {},
   "outputs": [],
   "source": [
    "assert True"
   ]
  },
  {
   "cell_type": "code",
   "execution_count": 47,
   "id": "08792ac6-5f5f-4b71-8a9c-ae92a967e498",
   "metadata": {},
   "outputs": [
    {
     "ename": "AssertionError",
     "evalue": "",
     "output_type": "error",
     "traceback": [
      "\u001b[0;31m---------------------------------------------------------------------------\u001b[0m",
      "\u001b[0;31mAssertionError\u001b[0m                            Traceback (most recent call last)",
      "Cell \u001b[0;32mIn[47], line 1\u001b[0m\n\u001b[0;32m----> 1\u001b[0m \u001b[38;5;28;01massert\u001b[39;00m \u001b[38;5;28;01mFalse\u001b[39;00m\n",
      "\u001b[0;31mAssertionError\u001b[0m: "
     ]
    }
   ],
   "source": [
    "assert False"
   ]
  },
  {
   "cell_type": "code",
   "execution_count": 48,
   "id": "16d07ce4-27fd-410d-8b27-7ea2c2446531",
   "metadata": {},
   "outputs": [
    {
     "ename": "AssertionError",
     "evalue": "something is wrong",
     "output_type": "error",
     "traceback": [
      "\u001b[0;31m---------------------------------------------------------------------------\u001b[0m",
      "\u001b[0;31mAssertionError\u001b[0m                            Traceback (most recent call last)",
      "Cell \u001b[0;32mIn[48], line 1\u001b[0m\n\u001b[0;32m----> 1\u001b[0m \u001b[38;5;28;01massert\u001b[39;00m \u001b[38;5;28;01mFalse\u001b[39;00m, \u001b[38;5;124m'\u001b[39m\u001b[38;5;124msomething is wrong\u001b[39m\u001b[38;5;124m'\u001b[39m\n",
      "\u001b[0;31mAssertionError\u001b[0m: something is wrong"
     ]
    }
   ],
   "source": [
    "assert False, 'something is wrong'"
   ]
  },
  {
   "cell_type": "markdown",
   "id": "d1125a48-464d-44af-9ada-e12c12ab6856",
   "metadata": {},
   "source": [
    "## Modules"
   ]
  },
  {
   "cell_type": "code",
   "execution_count": 49,
   "id": "aec7b71b-3805-4b27-800b-3447a9c1369a",
   "metadata": {},
   "outputs": [
    {
     "name": "stdout",
     "output_type": "stream",
     "text": [
      "Hello world\n",
      "Goodbye\n"
     ]
    }
   ],
   "source": [
    "import hello"
   ]
  },
  {
   "cell_type": "code",
   "execution_count": 50,
   "id": "ee62e6f7-dc5f-4e80-b61d-5726c260cf0e",
   "metadata": {},
   "outputs": [
    {
     "data": {
      "text/plain": [
       "['In',\n",
       " 'Out',\n",
       " '_',\n",
       " '_10',\n",
       " '_11',\n",
       " '_12',\n",
       " '_13',\n",
       " '_14',\n",
       " '_19',\n",
       " '_2',\n",
       " '_22',\n",
       " '_23',\n",
       " '_24',\n",
       " '_25',\n",
       " '_26',\n",
       " '_27',\n",
       " '_28',\n",
       " '_3',\n",
       " '_31',\n",
       " '_33',\n",
       " '_34',\n",
       " '_38',\n",
       " '_4',\n",
       " '_41',\n",
       " '_45',\n",
       " '_5',\n",
       " '_6',\n",
       " '_7',\n",
       " '_9',\n",
       " '__',\n",
       " '___',\n",
       " '__builtin__',\n",
       " '__builtins__',\n",
       " '__doc__',\n",
       " '__loader__',\n",
       " '__name__',\n",
       " '__package__',\n",
       " '__session__',\n",
       " '__spec__',\n",
       " '_dh',\n",
       " '_i',\n",
       " '_i1',\n",
       " '_i10',\n",
       " '_i11',\n",
       " '_i12',\n",
       " '_i13',\n",
       " '_i14',\n",
       " '_i15',\n",
       " '_i16',\n",
       " '_i17',\n",
       " '_i18',\n",
       " '_i19',\n",
       " '_i2',\n",
       " '_i20',\n",
       " '_i21',\n",
       " '_i22',\n",
       " '_i23',\n",
       " '_i24',\n",
       " '_i25',\n",
       " '_i26',\n",
       " '_i27',\n",
       " '_i28',\n",
       " '_i29',\n",
       " '_i3',\n",
       " '_i30',\n",
       " '_i31',\n",
       " '_i32',\n",
       " '_i33',\n",
       " '_i34',\n",
       " '_i35',\n",
       " '_i36',\n",
       " '_i37',\n",
       " '_i38',\n",
       " '_i39',\n",
       " '_i4',\n",
       " '_i40',\n",
       " '_i41',\n",
       " '_i42',\n",
       " '_i43',\n",
       " '_i44',\n",
       " '_i45',\n",
       " '_i46',\n",
       " '_i47',\n",
       " '_i48',\n",
       " '_i49',\n",
       " '_i5',\n",
       " '_i50',\n",
       " '_i6',\n",
       " '_i7',\n",
       " '_i8',\n",
       " '_i9',\n",
       " '_ih',\n",
       " '_ii',\n",
       " '_iii',\n",
       " '_oh',\n",
       " 'c',\n",
       " 'card',\n",
       " 'colours',\n",
       " 'deck',\n",
       " 'exit',\n",
       " 'get_ipython',\n",
       " 'hello',\n",
       " 'open',\n",
       " 'quit',\n",
       " 'v',\n",
       " 'values']"
      ]
     },
     "execution_count": 50,
     "metadata": {},
     "output_type": "execute_result"
    }
   ],
   "source": [
    "dir()"
   ]
  },
  {
   "cell_type": "code",
   "execution_count": 51,
   "id": "7d7b6091-7351-4962-826b-3a24dd3fbb6c",
   "metadata": {},
   "outputs": [
    {
     "data": {
      "text/plain": [
       "module"
      ]
     },
     "execution_count": 51,
     "metadata": {},
     "output_type": "execute_result"
    }
   ],
   "source": [
    "type(hello)"
   ]
  },
  {
   "cell_type": "code",
   "execution_count": 52,
   "id": "4872fc0d-0888-4205-9018-2da662101435",
   "metadata": {},
   "outputs": [
    {
     "data": {
      "text/plain": [
       "['__builtins__',\n",
       " '__cached__',\n",
       " '__doc__',\n",
       " '__file__',\n",
       " '__loader__',\n",
       " '__name__',\n",
       " '__package__',\n",
       " '__spec__']"
      ]
     },
     "execution_count": 52,
     "metadata": {},
     "output_type": "execute_result"
    }
   ],
   "source": [
    "dir(hello)"
   ]
  },
  {
   "cell_type": "code",
   "execution_count": 53,
   "id": "8840675a-4663-44f5-8636-7c63968859c3",
   "metadata": {},
   "outputs": [],
   "source": [
    "import hello"
   ]
  },
  {
   "cell_type": "markdown",
   "id": "96d6cf44-5ce8-45b2-a905-432fe168372d",
   "metadata": {},
   "source": [
    "    >>> dir(hello)\n",
    "    ['__builtins__', '__cached__', '__doc__', '__file__', '__loader__', '__name__', '__package__', '__spec__', 'greeting']\n",
    "    >>> print(hello.greeting)\n",
    "    Hello world"
   ]
  },
  {
   "cell_type": "code",
   "execution_count": 54,
   "id": "7a69efd4-c0ad-4e15-9adc-09fe02b3f060",
   "metadata": {},
   "outputs": [
    {
     "data": {
      "text/plain": [
       "1.4142135623730951"
      ]
     },
     "execution_count": 54,
     "metadata": {},
     "output_type": "execute_result"
    }
   ],
   "source": [
    "import math\n",
    "math.sqrt(2)"
   ]
  },
  {
   "cell_type": "code",
   "execution_count": 55,
   "id": "00f3b741-aacc-41f1-a926-f6bfde51a631",
   "metadata": {},
   "outputs": [
    {
     "data": {
      "text/plain": [
       "['__doc__',\n",
       " '__file__',\n",
       " '__loader__',\n",
       " '__name__',\n",
       " '__package__',\n",
       " '__spec__',\n",
       " 'acos',\n",
       " 'acosh',\n",
       " 'asin',\n",
       " 'asinh',\n",
       " 'atan',\n",
       " 'atan2',\n",
       " 'atanh',\n",
       " 'cbrt',\n",
       " 'ceil',\n",
       " 'comb',\n",
       " 'copysign',\n",
       " 'cos',\n",
       " 'cosh',\n",
       " 'degrees',\n",
       " 'dist',\n",
       " 'e',\n",
       " 'erf',\n",
       " 'erfc',\n",
       " 'exp',\n",
       " 'exp2',\n",
       " 'expm1',\n",
       " 'fabs',\n",
       " 'factorial',\n",
       " 'floor',\n",
       " 'fmod',\n",
       " 'frexp',\n",
       " 'fsum',\n",
       " 'gamma',\n",
       " 'gcd',\n",
       " 'hypot',\n",
       " 'inf',\n",
       " 'isclose',\n",
       " 'isfinite',\n",
       " 'isinf',\n",
       " 'isnan',\n",
       " 'isqrt',\n",
       " 'lcm',\n",
       " 'ldexp',\n",
       " 'lgamma',\n",
       " 'log',\n",
       " 'log10',\n",
       " 'log1p',\n",
       " 'log2',\n",
       " 'modf',\n",
       " 'nan',\n",
       " 'nextafter',\n",
       " 'perm',\n",
       " 'pi',\n",
       " 'pow',\n",
       " 'prod',\n",
       " 'radians',\n",
       " 'remainder',\n",
       " 'sin',\n",
       " 'sinh',\n",
       " 'sqrt',\n",
       " 'sumprod',\n",
       " 'tan',\n",
       " 'tanh',\n",
       " 'tau',\n",
       " 'trunc',\n",
       " 'ulp']"
      ]
     },
     "execution_count": 55,
     "metadata": {},
     "output_type": "execute_result"
    }
   ],
   "source": [
    "dir(math)"
   ]
  },
  {
   "cell_type": "code",
   "execution_count": 56,
   "id": "fbf2c130-289b-4e56-8dee-937b2bcad76d",
   "metadata": {},
   "outputs": [],
   "source": [
    "import sys"
   ]
  },
  {
   "cell_type": "code",
   "execution_count": 58,
   "id": "1ede42b6-686f-40e2-a3df-6bc82423a029",
   "metadata": {},
   "outputs": [
    {
     "name": "stdout",
     "output_type": "stream",
     "text": [
      "Hello world\n",
      "Goodbye\n",
      "['hello.py']\n"
     ]
    }
   ],
   "source": [
    "!python hello.py"
   ]
  },
  {
   "cell_type": "code",
   "execution_count": 59,
   "id": "3db07731-127b-41da-92a1-a2467879e10d",
   "metadata": {},
   "outputs": [
    {
     "name": "stdout",
     "output_type": "stream",
     "text": [
      "Hello world\n",
      "Goodbye\n",
      "['hello.py', 'john']\n"
     ]
    }
   ],
   "source": [
    "!python hello.py john\n"
   ]
  },
  {
   "cell_type": "code",
   "execution_count": 60,
   "id": "e169ad59-beb3-4775-a71f-3fe4d594a84f",
   "metadata": {},
   "outputs": [
    {
     "name": "stdout",
     "output_type": "stream",
     "text": [
      "['hello.py', 'John']\n",
      "Hello John\n",
      "Goodbye\n"
     ]
    }
   ],
   "source": [
    "!python hello.py John"
   ]
  },
  {
   "cell_type": "code",
   "execution_count": 61,
   "id": "6786aedf-02cc-49c1-be7c-55d4030c88d2",
   "metadata": {},
   "outputs": [
    {
     "name": "stdout",
     "output_type": "stream",
     "text": [
      "['hello.py']\n",
      "Traceback (most recent call last):\n",
      "  File \"/Users/fca3004/course/hello.py\", line 4, in <module>\n",
      "    greeting = \"Hello \" + sys.argv[1]\n",
      "                          ~~~~~~~~^^^\n",
      "IndexError: list index out of range\n"
     ]
    }
   ],
   "source": [
    "!python hello.py"
   ]
  },
  {
   "cell_type": "markdown",
   "id": "4b6613c5-413c-44b3-a937-76883ffd1a9e",
   "metadata": {},
   "source": [
    "Alternativ import form"
   ]
  },
  {
   "cell_type": "code",
   "execution_count": 62,
   "id": "45668b47-2173-498b-87eb-c49c65956488",
   "metadata": {},
   "outputs": [
    {
     "data": {
      "text/plain": [
       "1.4142135623730951"
      ]
     },
     "execution_count": 62,
     "metadata": {},
     "output_type": "execute_result"
    }
   ],
   "source": [
    "from math import sqrt\n",
    "sqrt(2)"
   ]
  },
  {
   "cell_type": "markdown",
   "id": "0cad7756-6ebc-4733-9370-e522ae86ab8f",
   "metadata": {},
   "source": [
    "Equivalent to]\n",
    "\n",
    "    import math\n",
    "    sqrt = math.sqrt"
   ]
  },
  {
   "cell_type": "code",
   "execution_count": 63,
   "id": "96506554-e863-4e7c-96db-0f5991bb38cf",
   "metadata": {},
   "outputs": [
    {
     "ename": "ImportError",
     "evalue": "cannot import name 'greeting' from 'hello' (/Users/fca3004/course/hello.py)",
     "output_type": "error",
     "traceback": [
      "\u001b[0;31m---------------------------------------------------------------------------\u001b[0m",
      "\u001b[0;31mImportError\u001b[0m                               Traceback (most recent call last)",
      "Cell \u001b[0;32mIn[63], line 1\u001b[0m\n\u001b[0;32m----> 1\u001b[0m \u001b[38;5;28;01mfrom\u001b[39;00m \u001b[38;5;21;01mhello\u001b[39;00m \u001b[38;5;28;01mimport\u001b[39;00m greeting\n",
      "\u001b[0;31mImportError\u001b[0m: cannot import name 'greeting' from 'hello' (/Users/fca3004/course/hello.py)"
     ]
    }
   ],
   "source": [
    "from hello import greeting"
   ]
  },
  {
   "cell_type": "markdown",
   "id": "abfca09a-8024-4399-98c7-c9604a263084",
   "metadata": {},
   "source": [
    "## Version control"
   ]
  },
  {
   "cell_type": "code",
   "execution_count": 1,
   "id": "65313d58-e1d4-4898-9dbc-15a13eb516b1",
   "metadata": {},
   "outputs": [],
   "source": [
    "!git config --global user.name \"Olav Vahtras\""
   ]
  },
  {
   "cell_type": "code",
   "execution_count": 2,
   "id": "1c328427-b761-4e7f-9ea8-d97f1468e208",
   "metadata": {},
   "outputs": [
    {
     "name": "stdout",
     "output_type": "stream",
     "text": [
      "[user]\n",
      "\tname = Olav Vahtras\n"
     ]
    }
   ],
   "source": [
    "!cat ~/.gitconfig"
   ]
  },
  {
   "cell_type": "code",
   "execution_count": 4,
   "id": "3924eee9-23a4-461a-9816-ea526c1b50de",
   "metadata": {},
   "outputs": [],
   "source": [
    "!git config --global user.email vahtras@kth.se"
   ]
  },
  {
   "cell_type": "code",
   "execution_count": 5,
   "id": "39c1006a-a74f-4c09-a60b-ada07de33524",
   "metadata": {},
   "outputs": [
    {
     "name": "stdout",
     "output_type": "stream",
     "text": [
      "[user]\n",
      "\tname = Olav Vahtras\n",
      "\temail = vahtras@kth.se\n"
     ]
    }
   ],
   "source": [
    "!cat ~/.gitconfig"
   ]
  },
  {
   "cell_type": "code",
   "execution_count": 6,
   "id": "11dd6d87-150d-4845-8c2c-11d3dd0a2cbf",
   "metadata": {},
   "outputs": [
    {
     "name": "stdout",
     "output_type": "stream",
     "text": [
      "\u001b[34mUntitled Folder\u001b[m\u001b[m/         \u001b[34mbooks\u001b[m\u001b[m/                   untitled.txt\n",
      "\u001b[34m__pycache__\u001b[m\u001b[m/             hello.py\n",
      "basics-2024-11-04.ipynb  lecture-notes.ipynb\n"
     ]
    }
   ],
   "source": [
    "%ls"
   ]
  },
  {
   "cell_type": "code",
   "execution_count": 7,
   "id": "ea30180c-d3f8-4bcd-83b3-3a026204deb5",
   "metadata": {},
   "outputs": [
    {
     "name": "stdout",
     "output_type": "stream",
     "text": [
      "/Users/fca3004/course/books\n"
     ]
    },
    {
     "name": "stderr",
     "output_type": "stream",
     "text": [
      "/Users/fca3004/miniconda3/envs/course/lib/python3.12/site-packages/IPython/core/magics/osm.py:417: UserWarning: This is now an optional IPython functionality, setting dhist requires you to install the `pickleshare` library.\n",
      "  self.shell.db['dhist'] = compress_dhist(dhist)[-100:]\n"
     ]
    }
   ],
   "source": [
    "%cd books"
   ]
  },
  {
   "cell_type": "code",
   "execution_count": 8,
   "id": "a57cda52-94b8-4361-bef8-63782be5fa0b",
   "metadata": {},
   "outputs": [
    {
     "data": {
      "text/plain": [
       "'/Users/fca3004/course/books'"
      ]
     },
     "execution_count": 8,
     "metadata": {},
     "output_type": "execute_result"
    }
   ],
   "source": [
    "%pwd"
   ]
  },
  {
   "cell_type": "code",
   "execution_count": 9,
   "id": "b9ccb616-5b08-4713-aed2-3282371c2630",
   "metadata": {},
   "outputs": [
    {
     "name": "stdout",
     "output_type": "stream",
     "text": [
      "untitled1.txt\n"
     ]
    }
   ],
   "source": [
    "%ls"
   ]
  },
  {
   "cell_type": "code",
   "execution_count": 10,
   "id": "639afeb3-72f1-48da-9106-431bd9f893f9",
   "metadata": {},
   "outputs": [],
   "source": [
    "%mv untitled1.txt booklist.txt"
   ]
  },
  {
   "cell_type": "code",
   "execution_count": 11,
   "id": "7085f157-bd72-48c6-8ad1-30a4bd49c7ed",
   "metadata": {},
   "outputs": [
    {
     "name": "stdout",
     "output_type": "stream",
     "text": [
      "Initialized empty Git repository in /Users/fca3004/course/books/.git/\n"
     ]
    }
   ],
   "source": [
    "!git init ."
   ]
  },
  {
   "cell_type": "code",
   "execution_count": 12,
   "id": "b573463b-8e23-4c53-a24d-b83ca5da6da3",
   "metadata": {},
   "outputs": [
    {
     "name": "stdout",
     "output_type": "stream",
     "text": [
      "On branch main\n",
      "\n",
      "No commits yet\n",
      "\n",
      "Untracked files:\n",
      "  (use \"git add <file>...\" to include in what will be committed)\n",
      "\t\u001b[31m.ipynb_checkpoints/\u001b[m\n",
      "\t\u001b[31mbooklist.txt\u001b[m\n",
      "\n",
      "nothing added to commit but untracked files present (use \"git add\" to track)\n"
     ]
    }
   ],
   "source": [
    "!git status"
   ]
  },
  {
   "cell_type": "code",
   "execution_count": 13,
   "id": "42744b69-22de-4384-8ed2-ff284c57efd1",
   "metadata": {},
   "outputs": [
    {
     "name": "stdout",
     "output_type": "stream",
     "text": [
      "On branch main\n",
      "\n",
      "No commits yet\n",
      "\n",
      "Untracked files:\n",
      "  (use \"git add <file>...\" to include in what will be committed)\n",
      "\t\u001b[31m.gitignore\u001b[m\n",
      "\t\u001b[31m.ipynb_checkpoints/\u001b[m\n",
      "\t\u001b[31mbooklist.txt\u001b[m\n",
      "\n",
      "nothing added to commit but untracked files present (use \"git add\" to track)\n"
     ]
    }
   ],
   "source": [
    "!git status"
   ]
  },
  {
   "cell_type": "code",
   "execution_count": 14,
   "id": "8e1b5499-80ba-4df8-b906-63d0bef58c17",
   "metadata": {},
   "outputs": [
    {
     "name": "stdout",
     "output_type": "stream",
     "text": [
      ".ipynb_checkpoints/\n"
     ]
    }
   ],
   "source": [
    "!cat .gitignore"
   ]
  },
  {
   "cell_type": "code",
   "execution_count": 15,
   "id": "ff8bcf47-f4e0-473b-97f1-da27c2c4b85e",
   "metadata": {},
   "outputs": [
    {
     "name": "stdout",
     "output_type": "stream",
     "text": [
      "On branch main\n",
      "\n",
      "No commits yet\n",
      "\n",
      "Untracked files:\n",
      "  (use \"git add <file>...\" to include in what will be committed)\n",
      "\t\u001b[31m.gitignore\u001b[m\n",
      "\t\u001b[31mbooklist.txt\u001b[m\n",
      "\n",
      "nothing added to commit but untracked files present (use \"git add\" to track)\n"
     ]
    }
   ],
   "source": [
    "!git status"
   ]
  },
  {
   "cell_type": "code",
   "execution_count": 16,
   "id": "cd6990c3-afc4-4ddd-9be5-cf7d9fc58f6a",
   "metadata": {},
   "outputs": [],
   "source": [
    "!git add .gitignore"
   ]
  },
  {
   "cell_type": "code",
   "execution_count": 17,
   "id": "381adc8f-68b3-4a34-a2c0-8a1a270491e4",
   "metadata": {},
   "outputs": [
    {
     "name": "stdout",
     "output_type": "stream",
     "text": [
      "On branch main\n",
      "\n",
      "No commits yet\n",
      "\n",
      "Changes to be committed:\n",
      "  (use \"git rm --cached <file>...\" to unstage)\n",
      "\t\u001b[32mnew file:   .gitignore\u001b[m\n",
      "\n",
      "Untracked files:\n",
      "  (use \"git add <file>...\" to include in what will be committed)\n",
      "\t\u001b[31mbooklist.txt\u001b[m\n",
      "\n"
     ]
    }
   ],
   "source": [
    "!git status"
   ]
  },
  {
   "cell_type": "code",
   "execution_count": 18,
   "id": "2f1a088e-b48a-4604-ba9d-b36c6f57f7c0",
   "metadata": {},
   "outputs": [
    {
     "name": "stdout",
     "output_type": "stream",
     "text": [
      "[main (root-commit) 7386d1d] Ignore notebook metadata\n",
      " 1 file changed, 1 insertion(+)\n",
      " create mode 100644 .gitignore\n"
     ]
    }
   ],
   "source": [
    "!git commit .gitignore -m \"Ignore notebook metadata\"\n"
   ]
  },
  {
   "cell_type": "code",
   "execution_count": 19,
   "id": "e3461803-1211-48b6-bda6-9c80559d4475",
   "metadata": {},
   "outputs": [
    {
     "name": "stdout",
     "output_type": "stream",
     "text": [
      "On branch main\n",
      "Untracked files:\n",
      "  (use \"git add <file>...\" to include in what will be committed)\n",
      "\t\u001b[31mbooklist.txt\u001b[m\n",
      "\n",
      "nothing added to commit but untracked files present (use \"git add\" to track)\n"
     ]
    }
   ],
   "source": [
    "!git status"
   ]
  },
  {
   "cell_type": "code",
   "execution_count": 20,
   "id": "4f5555f8-3de9-4ae2-95b3-de98bf06d27b",
   "metadata": {},
   "outputs": [
    {
     "name": "stdout",
     "output_type": "stream",
     "text": [
      "On branch main\n",
      "nothing to commit, working tree clean\n"
     ]
    }
   ],
   "source": [
    "!git status"
   ]
  },
  {
   "cell_type": "code",
   "execution_count": 21,
   "id": "fc31c85e-bd81-4413-a423-c9e84ac5b04e",
   "metadata": {},
   "outputs": [
    {
     "name": "stdout",
     "output_type": "stream",
     "text": [
      "\u001b[33mcommit 9f79cbfeff418e571cb4666c1f15b3ca2df95074\u001b[m\u001b[33m (\u001b[m\u001b[1;36mHEAD -> \u001b[m\u001b[1;32mmain\u001b[m\u001b[33m)\u001b[m\n",
      "Author: Olav Vahtras <vahtras@kth.se>\n",
      "Date:   Fri Nov 8 14:44:46 2024 +0100\n",
      "\n",
      "    First book saved\n",
      "\n",
      "\u001b[33mcommit 7386d1dbd99fb08bf9bc5e05d89c6e4186e9cdc6\u001b[m\n",
      "Author: Olav Vahtras <vahtras@kth.se>\n",
      "Date:   Fri Nov 8 14:41:20 2024 +0100\n",
      "\n",
      "    Ignore notebook metadata\n"
     ]
    }
   ],
   "source": [
    "!git log"
   ]
  },
  {
   "cell_type": "code",
   "execution_count": 22,
   "id": "c472d4b4-779c-4c2b-b240-13456bc75029",
   "metadata": {},
   "outputs": [
    {
     "name": "stdout",
     "output_type": "stream",
     "text": [
      "\u001b[33m9f79cbf\u001b[m\u001b[33m (\u001b[m\u001b[1;36mHEAD -> \u001b[m\u001b[1;32mmain\u001b[m\u001b[33m)\u001b[m First book saved\n",
      "\u001b[33m7386d1d\u001b[m Ignore notebook metadata\n"
     ]
    }
   ],
   "source": [
    "!git log --oneline"
   ]
  },
  {
   "cell_type": "code",
   "execution_count": 23,
   "id": "dd0a7731-c3bc-42c3-832c-e2c723f3f0fb",
   "metadata": {},
   "outputs": [
    {
     "name": "stdout",
     "output_type": "stream",
     "text": [
      "On branch main\n",
      "Changes not staged for commit:\n",
      "  (use \"git add <file>...\" to update what will be committed)\n",
      "  (use \"git restore <file>...\" to discard changes in working directory)\n",
      "\t\u001b[31mmodified:   booklist.txt\u001b[m\n",
      "\n",
      "no changes added to commit (use \"git add\" and/or \"git commit -a\")\n"
     ]
    }
   ],
   "source": [
    "!git status"
   ]
  },
  {
   "cell_type": "code",
   "execution_count": 24,
   "id": "f9f93285-4577-4d32-a9ee-2bba0887fac6",
   "metadata": {},
   "outputs": [
    {
     "name": "stdout",
     "output_type": "stream",
     "text": [
      "\u001b[1mdiff --git a/booklist.txt b/booklist.txt\u001b[m\n",
      "\u001b[1mindex 692f6d2..c552dce 100644\u001b[m\n",
      "\u001b[1m--- a/booklist.txt\u001b[m\n",
      "\u001b[1m+++ b/booklist.txt\u001b[m\n",
      "\u001b[36m@@ -1 +1,2 @@\u001b[m\n",
      " Animal Farm, George Orwell\u001b[m\n",
      "\u001b[32m+\u001b[m\u001b[32mGrapes of Wrath, John Steinbeck\u001b[m\n"
     ]
    }
   ],
   "source": [
    "!git diff"
   ]
  },
  {
   "cell_type": "code",
   "execution_count": 25,
   "id": "62b5dccd-a2ce-4eef-a7fe-dd21a3905c94",
   "metadata": {},
   "outputs": [],
   "source": [
    "!git add booklist.txt"
   ]
  },
  {
   "cell_type": "code",
   "execution_count": 26,
   "id": "ecd21b3e-55ac-4f07-9fab-ccc085a0b704",
   "metadata": {},
   "outputs": [
    {
     "name": "stdout",
     "output_type": "stream",
     "text": [
      "On branch main\n",
      "Changes to be committed:\n",
      "  (use \"git restore --staged <file>...\" to unstage)\n",
      "\t\u001b[32mmodified:   booklist.txt\u001b[m\n",
      "\n"
     ]
    }
   ],
   "source": [
    "!git status"
   ]
  },
  {
   "cell_type": "code",
   "execution_count": 27,
   "id": "2d42996f-afbe-4142-9522-bd80e497e89a",
   "metadata": {},
   "outputs": [
    {
     "name": "stdout",
     "output_type": "stream",
     "text": [
      "[main 2a006dd] Adding Steinbeck\n",
      " 1 file changed, 1 insertion(+)\n"
     ]
    }
   ],
   "source": [
    "!git commit booklist.txt -m \"Adding Steinbeck\""
   ]
  },
  {
   "cell_type": "code",
   "execution_count": 28,
   "id": "8be10b69-29b2-421d-99bb-a132139be2f0",
   "metadata": {},
   "outputs": [
    {
     "name": "stdout",
     "output_type": "stream",
     "text": [
      "On branch main\n",
      "nothing to commit, working tree clean\n"
     ]
    }
   ],
   "source": [
    "!git status"
   ]
  },
  {
   "cell_type": "code",
   "execution_count": 29,
   "id": "2bcdcb9a-37dc-4871-9bc9-d1aebbf75939",
   "metadata": {},
   "outputs": [
    {
     "name": "stdout",
     "output_type": "stream",
     "text": [
      "\u001b[33m2a006dd\u001b[m\u001b[33m (\u001b[m\u001b[1;36mHEAD -> \u001b[m\u001b[1;32mmain\u001b[m\u001b[33m)\u001b[m Adding Steinbeck\n",
      "\u001b[33m9f79cbf\u001b[m First book saved\n",
      "\u001b[33m7386d1d\u001b[m Ignore notebook metadata\n"
     ]
    }
   ],
   "source": [
    "!git log --oneline"
   ]
  },
  {
   "cell_type": "code",
   "execution_count": 30,
   "id": "46e7291f-26e3-46b7-8378-12198382b2f0",
   "metadata": {},
   "outputs": [
    {
     "name": "stdout",
     "output_type": "stream",
     "text": [
      "Note: switching to '9f79cbf'.\n",
      "\n",
      "You are in 'detached HEAD' state. You can look around, make experimental\n",
      "changes and commit them, and you can discard any commits you make in this\n",
      "state without impacting any branches by switching back to a branch.\n",
      "\n",
      "If you want to create a new branch to retain commits you create, you may\n",
      "do so (now or later) by using -c with the switch command. Example:\n",
      "\n",
      "  git switch -c <new-branch-name>\n",
      "\n",
      "Or undo this operation with:\n",
      "\n",
      "  git switch -\n",
      "\n",
      "Turn off this advice by setting config variable advice.detachedHead to false\n",
      "\n",
      "HEAD is now at 9f79cbf First book saved\n"
     ]
    }
   ],
   "source": [
    "!git checkout 9f79cbf"
   ]
  },
  {
   "cell_type": "code",
   "execution_count": 33,
   "id": "6e978bc3-36c8-456c-9ff9-9c3b14f1399e",
   "metadata": {},
   "outputs": [
    {
     "name": "stdout",
     "output_type": "stream",
     "text": [
      "\u001b[33m2a006dd\u001b[m\u001b[33m (\u001b[m\u001b[1;32mmain\u001b[m\u001b[33m)\u001b[m Adding Steinbeck\n",
      "\u001b[33m9f79cbf\u001b[m\u001b[33m (\u001b[m\u001b[1;36mHEAD\u001b[m\u001b[33m)\u001b[m First book saved\n",
      "\u001b[33m7386d1d\u001b[m Ignore notebook metadata\n"
     ]
    }
   ],
   "source": [
    "!git log --oneline --all"
   ]
  },
  {
   "cell_type": "code",
   "execution_count": 32,
   "id": "7e975a65-e890-4a66-99e6-3d1ea03c5fc6",
   "metadata": {},
   "outputs": [
    {
     "name": "stdout",
     "output_type": "stream",
     "text": [
      "Animal Farm, George Orwell\n"
     ]
    }
   ],
   "source": [
    "!cat booklist.txt"
   ]
  },
  {
   "cell_type": "code",
   "execution_count": 34,
   "id": "203eb1f6-ad55-458c-8ed9-ab28fb9e13a9",
   "metadata": {},
   "outputs": [
    {
     "name": "stdout",
     "output_type": "stream",
     "text": [
      "Previous HEAD position was 9f79cbf First book saved\n",
      "Switched to branch 'main'\n"
     ]
    }
   ],
   "source": [
    "!git switch main"
   ]
  },
  {
   "cell_type": "code",
   "execution_count": 35,
   "id": "afaa9a5c-e16b-4a68-90e7-0786372222fd",
   "metadata": {},
   "outputs": [
    {
     "name": "stdout",
     "output_type": "stream",
     "text": [
      "\u001b[33m2a006dd\u001b[m\u001b[33m (\u001b[m\u001b[1;36mHEAD -> \u001b[m\u001b[1;32mmain\u001b[m\u001b[33m)\u001b[m Adding Steinbeck\n",
      "\u001b[33m9f79cbf\u001b[m First book saved\n",
      "\u001b[33m7386d1d\u001b[m Ignore notebook metadata\n"
     ]
    }
   ],
   "source": [
    "!git log --oneline --all"
   ]
  },
  {
   "cell_type": "markdown",
   "id": "c2f49675-62cd-43ee-8fd9-8bd48c991112",
   "metadata": {},
   "source": [
    "## KTH github server"
   ]
  },
  {
   "cell_type": "code",
   "execution_count": 36,
   "id": "4f323c78-2f2c-483c-a41c-80867af2b23c",
   "metadata": {},
   "outputs": [
    {
     "name": "stdout",
     "output_type": "stream",
     "text": [
      "Generating public/private ed25519 key pair.\n",
      "Enter file in which to save the key (/Users/fca3004/.ssh/id_ed25519): ^C\n"
     ]
    }
   ],
   "source": [
    "!ssh-keygen"
   ]
  },
  {
   "cell_type": "markdown",
   "id": "3797518e-d2e3-4d88-949f-dc1ccba506b9",
   "metadata": {},
   "source": [
    "## Testing"
   ]
  },
  {
   "cell_type": "code",
   "execution_count": 41,
   "id": "233edd66-36e6-4c47-bb29-baa367e7b849",
   "metadata": {},
   "outputs": [
    {
     "name": "stdout",
     "output_type": "stream",
     "text": [
      "/Users/fca3004/course\n"
     ]
    }
   ],
   "source": [
    "!pwd"
   ]
  },
  {
   "cell_type": "code",
   "execution_count": null,
   "id": "658d3623-9e35-4a41-a9cf-0d99e344929e",
   "metadata": {},
   "outputs": [],
   "source": []
  },
  {
   "cell_type": "code",
   "execution_count": null,
   "id": "a0010d9b-a955-487c-810d-215a4257695b",
   "metadata": {},
   "outputs": [],
   "source": []
  },
  {
   "cell_type": "markdown",
   "id": "fc986644-2ae5-433a-bd10-59d448d813e0",
   "metadata": {},
   "source": [
    "    #calculate.py\n",
    "    def add(a, b):\n",
    "        \"\"\"\n",
    "        Return sum of two arguments\n",
    "        >>> add(1, 1)\n",
    "        2\n",
    "        >>>\n",
    "        \"\"\"\n",
    "        return a + b\n",
    "    \n",
    "    def sub(a, b):\n",
    "        \"\"\"\n",
    "        Return difference of two arguments\n",
    "        >>> sub(1, 1)\n",
    "        0\n",
    "        >>>\n",
    "        \"\"\"\n",
    "        return a - b"
   ]
  },
  {
   "cell_type": "code",
   "execution_count": 42,
   "id": "394b3b0a-4982-4870-b382-8f9c970d61f0",
   "metadata": {},
   "outputs": [],
   "source": [
    "import calculate"
   ]
  },
  {
   "cell_type": "code",
   "execution_count": 44,
   "id": "894bc9ab-990b-4dea-a4d6-3c4fe745a54a",
   "metadata": {},
   "outputs": [
    {
     "data": {
      "text/plain": [
       "2"
      ]
     },
     "execution_count": 44,
     "metadata": {},
     "output_type": "execute_result"
    }
   ],
   "source": [
    "calculate.add(1, 1)"
   ]
  },
  {
   "cell_type": "markdown",
   "id": "0c6a58e4-1052-4dac-9ff2-8e4c242497c0",
   "metadata": {},
   "source": [
    "### doctest"
   ]
  },
  {
   "cell_type": "code",
   "execution_count": 47,
   "id": "b12425d7-4096-4c05-b593-38e28e6bad89",
   "metadata": {},
   "outputs": [
    {
     "name": "stdout",
     "output_type": "stream",
     "text": [
      "Trying:\n",
      "    add(1, 1)\n",
      "Expecting:\n",
      "    2\n",
      "ok\n",
      "Trying:\n",
      "    sub(1, 1)\n",
      "Expecting:\n",
      "    0\n",
      "ok\n",
      "1 items had no tests:\n",
      "    calculate\n",
      "2 items passed all tests:\n",
      "   1 tests in calculate.add\n",
      "   1 tests in calculate.sub\n",
      "2 tests in 3 items.\n",
      "2 passed and 0 failed.\n",
      "Test passed.\n"
     ]
    }
   ],
   "source": [
    "!python -m doctest calculate.py -v"
   ]
  },
  {
   "cell_type": "markdown",
   "id": "dd3800d8-f0bb-4288-a049-80891dc34a04",
   "metadata": {},
   "source": [
    "## pytest"
   ]
  },
  {
   "cell_type": "code",
   "execution_count": 49,
   "id": "0861e947-aaca-4b16-a64b-05b7e6b71857",
   "metadata": {},
   "outputs": [
    {
     "name": "stdout",
     "output_type": "stream",
     "text": [
      "\u001b[1m============================= test session starts ==============================\u001b[0m\n",
      "platform darwin -- Python 3.12.7, pytest-7.4.4, pluggy-1.0.0 -- /Users/fca3004/miniconda3/envs/course/bin/python\n",
      "cachedir: .pytest_cache\n",
      "rootdir: /Users/fca3004/course\n",
      "plugins: anyio-4.6.2\n",
      "collected 1 item                                                               \u001b[0m\n",
      "\n",
      "test_calculate.py::test_add \u001b[32mPASSED\u001b[0m\u001b[32m                                       [100%]\u001b[0m\n",
      "\n",
      "\u001b[32m============================== \u001b[32m\u001b[1m1 passed\u001b[0m\u001b[32m in 0.01s\u001b[0m\u001b[32m ===============================\u001b[0m\n"
     ]
    }
   ],
   "source": [
    "!python -m pytest -v"
   ]
  },
  {
   "cell_type": "code",
   "execution_count": 51,
   "id": "6d3fdbc2-f590-462d-aed6-56c041e6629b",
   "metadata": {},
   "outputs": [
    {
     "name": "stdout",
     "output_type": "stream",
     "text": [
      "\u001b[1m============================= test session starts ==============================\u001b[0m\n",
      "platform darwin -- Python 3.12.7, pytest-7.4.4, pluggy-1.0.0 -- /Users/fca3004/miniconda3/envs/course/bin/python\n",
      "cachedir: .pytest_cache\n",
      "rootdir: /Users/fca3004/course\n",
      "plugins: anyio-4.6.2\n",
      "collected 2 items                                                              \u001b[0m\n",
      "\n",
      "test_calculate.py::test_add \u001b[32mPASSED\u001b[0m\u001b[32m                                       [ 50%]\u001b[0m\n",
      "test_calculate.py::test_sub \u001b[31mFAILED\u001b[0m\u001b[31m                                       [100%]\u001b[0m\n",
      "\n",
      "=================================== FAILURES ===================================\n",
      "\u001b[31m\u001b[1m___________________________________ test_sub ___________________________________\u001b[0m\n",
      "\n",
      "    \u001b[94mdef\u001b[39;49;00m \u001b[92mtest_sub\u001b[39;49;00m():\u001b[90m\u001b[39;49;00m\n",
      "        result = calculate.sub(\u001b[94m1\u001b[39;49;00m, \u001b[94m1\u001b[39;49;00m)\u001b[90m\u001b[39;49;00m\n",
      "        expected = \u001b[94m0\u001b[39;49;00m\u001b[90m\u001b[39;49;00m\n",
      ">       \u001b[94massert\u001b[39;49;00m result == expected\u001b[90m\u001b[39;49;00m\n",
      "\u001b[1m\u001b[31mE       assert 2 == 0\u001b[0m\n",
      "\n",
      "\u001b[1m\u001b[31mtest_calculate.py\u001b[0m:11: AssertionError\n",
      "\u001b[36m\u001b[1m=========================== short test summary info ============================\u001b[0m\n",
      "\u001b[31mFAILED\u001b[0m test_calculate.py::\u001b[1mtest_sub\u001b[0m - assert 2 == 0\n",
      "\u001b[31m========================= \u001b[31m\u001b[1m1 failed\u001b[0m, \u001b[32m1 passed\u001b[0m\u001b[31m in 0.03s\u001b[0m\u001b[31m ==========================\u001b[0m\n"
     ]
    }
   ],
   "source": [
    "!pytest -v"
   ]
  },
  {
   "cell_type": "code",
   "execution_count": 52,
   "id": "4fd2ce67-c1ba-4f77-ae86-b7238081f8c9",
   "metadata": {},
   "outputs": [
    {
     "name": "stdout",
     "output_type": "stream",
     "text": [
      "\u001b[1m============================= test session starts ==============================\u001b[0m\n",
      "platform darwin -- Python 3.12.7, pytest-7.4.4, pluggy-1.0.0 -- /Users/fca3004/miniconda3/envs/course/bin/python\n",
      "cachedir: .pytest_cache\n",
      "rootdir: /Users/fca3004/course\n",
      "plugins: anyio-4.6.2\n",
      "collected 2 items                                                              \u001b[0m\n",
      "\n",
      "test_calculate.py::test_add \u001b[32mPASSED\u001b[0m\u001b[32m                                       [ 50%]\u001b[0m\n",
      "test_calculate.py::test_sub \u001b[32mPASSED\u001b[0m\u001b[32m                                       [100%]\u001b[0m\n",
      "\n",
      "\u001b[32m============================== \u001b[32m\u001b[1m2 passed\u001b[0m\u001b[32m in 0.01s\u001b[0m\u001b[32m ===============================\u001b[0m\n"
     ]
    }
   ],
   "source": [
    "!pytest -v"
   ]
  },
  {
   "cell_type": "code",
   "execution_count": 53,
   "id": "4b50fae4-b778-4dad-8ba8-1d61e079b587",
   "metadata": {},
   "outputs": [
    {
     "name": "stdout",
     "output_type": "stream",
     "text": [
      "\u001b[1m============================= test session starts ==============================\u001b[0m\n",
      "platform darwin -- Python 3.12.7, pytest-7.4.4, pluggy-1.0.0\n",
      "rootdir: /Users/fca3004/course\n",
      "plugins: anyio-4.6.2\n",
      "collected 2 items                                                              \u001b[0m\n",
      "\n",
      "test_calculate.py \u001b[32m.\u001b[0m\u001b[32m.\u001b[0m\u001b[32m                                                     [100%]\u001b[0m\n",
      "\n",
      "\u001b[32m============================== \u001b[32m\u001b[1m2 passed\u001b[0m\u001b[32m in 0.00s\u001b[0m\u001b[32m ===============================\u001b[0m\n"
     ]
    }
   ],
   "source": [
    "!pytest test_calculate.py"
   ]
  },
  {
   "cell_type": "markdown",
   "id": "15b66d9a-fdc8-4994-b54f-f10a7e67088d",
   "metadata": {},
   "source": [
    "### Example"
   ]
  },
  {
   "cell_type": "code",
   "execution_count": 58,
   "id": "1a66a195-5520-4432-9736-cdd76b40bb48",
   "metadata": {},
   "outputs": [
    {
     "name": "stdout",
     "output_type": "stream",
     "text": [
      "Overwriting test_leap.py\n"
     ]
    }
   ],
   "source": [
    "%%file test_leap.py\n",
    "from leap import is_leap_year\n",
    "\n",
    "def test_leap_year():\n",
    "    assert is_leap_year(2000) == True\n",
    "    assert is_leap_year(1999) == False\n",
    "    assert is_leap_year(1998) == False\n",
    "    assert is_leap_year(1996) == True\n",
    "    assert is_leap_year(1900) == False\n",
    "    assert is_leap_year(1800) == False\n",
    "    assert is_leap_year(1600) == True"
   ]
  },
  {
   "cell_type": "code",
   "execution_count": 67,
   "id": "974dc239-efdc-4009-a0e7-63847ce3086d",
   "metadata": {},
   "outputs": [
    {
     "name": "stdout",
     "output_type": "stream",
     "text": [
      "Overwriting leap.py\n"
     ]
    }
   ],
   "source": [
    "%%file leap.py\n",
    "def is_leap_year(year):\n",
    "    if year % 100 == 0:\n",
    "        #if year % 400 == 0:\n",
    "        #    return True\n",
    "        #else:\n",
    "        #    return False\n",
    "        return year % 400 == 0\n",
    "    else:\n",
    "        #if year % 4 == 0:\n",
    "        #    return True\n",
    "        #else:\n",
    "        #    return False\n",
    "        return year % 4 == 0\n",
    "    "
   ]
  },
  {
   "cell_type": "code",
   "execution_count": 68,
   "id": "94f57112-e8f6-4675-a7d6-0da50ed8bba0",
   "metadata": {},
   "outputs": [
    {
     "name": "stdout",
     "output_type": "stream",
     "text": [
      "\u001b[1m============================= test session starts ==============================\u001b[0m\n",
      "platform darwin -- Python 3.12.7, pytest-7.4.4, pluggy-1.0.0 -- /Users/fca3004/miniconda3/envs/course/bin/python\n",
      "cachedir: .pytest_cache\n",
      "rootdir: /Users/fca3004/course\n",
      "plugins: anyio-4.6.2\n",
      "collected 1 item                                                               \u001b[0m\n",
      "\n",
      "test_leap.py::test_leap_year \u001b[32mPASSED\u001b[0m\u001b[32m                                      [100%]\u001b[0m\n",
      "\n",
      "\u001b[32m============================== \u001b[32m\u001b[1m1 passed\u001b[0m\u001b[32m in 0.00s\u001b[0m\u001b[32m ===============================\u001b[0m\n"
     ]
    }
   ],
   "source": [
    "!pytest test_leap.py -v"
   ]
  },
  {
   "cell_type": "code",
   "execution_count": 75,
   "id": "c0b27331-ceb3-49b2-b5f0-b6efb474fd94",
   "metadata": {},
   "outputs": [
    {
     "name": "stdout",
     "output_type": "stream",
     "text": [
      "Overwriting test_leap2.py\n"
     ]
    }
   ],
   "source": [
    "%%file test_leap2.py\n",
    "import pytest\n",
    "from leap import is_leap_year\n",
    "\n",
    "@pytest.mark.parametrize(\n",
    "    'year,expected',\n",
    "    [(2000, True), (1999, False)]\n",
    ")\n",
    "def test_leap_year(year, expected):\n",
    "    assert is_leap_year(year) == expected\n",
    "   "
   ]
  },
  {
   "cell_type": "code",
   "execution_count": 76,
   "id": "bef61977-ee3f-4dbd-b1b3-552d70afe6b8",
   "metadata": {},
   "outputs": [
    {
     "name": "stdout",
     "output_type": "stream",
     "text": [
      "\u001b[1m============================= test session starts ==============================\u001b[0m\n",
      "platform darwin -- Python 3.12.7, pytest-7.4.4, pluggy-1.0.0 -- /Users/fca3004/miniconda3/envs/course/bin/python\n",
      "cachedir: .pytest_cache\n",
      "rootdir: /Users/fca3004/course\n",
      "plugins: anyio-4.6.2\n",
      "collected 2 items                                                              \u001b[0m\n",
      "\n",
      "test_leap2.py::test_leap_year[2000-True] \u001b[32mPASSED\u001b[0m\u001b[32m                          [ 50%]\u001b[0m\n",
      "test_leap2.py::test_leap_year[1999-False] \u001b[32mPASSED\u001b[0m\u001b[32m                         [100%]\u001b[0m\n",
      "\n",
      "\u001b[32m============================== \u001b[32m\u001b[1m2 passed\u001b[0m\u001b[32m in 0.00s\u001b[0m\u001b[32m ===============================\u001b[0m\n"
     ]
    }
   ],
   "source": [
    "!pytest -v test_leap2.py"
   ]
  },
  {
   "cell_type": "markdown",
   "id": "2b588ba7-7c1c-416b-bc95-97269e4610a6",
   "metadata": {},
   "source": [
    "## Classes"
   ]
  },
  {
   "cell_type": "code",
   "execution_count": 77,
   "id": "2f0827bf-16b0-4205-8cd2-f54dea914395",
   "metadata": {},
   "outputs": [],
   "source": [
    "class Person:\n",
    "   num = 0 "
   ]
  },
  {
   "cell_type": "code",
   "execution_count": 78,
   "id": "9761729e-b73a-47b1-b9a7-1bcb8f14bec4",
   "metadata": {},
   "outputs": [
    {
     "data": {
      "text/plain": [
       "__main__.Person"
      ]
     },
     "execution_count": 78,
     "metadata": {},
     "output_type": "execute_result"
    }
   ],
   "source": [
    "Person"
   ]
  },
  {
   "cell_type": "code",
   "execution_count": 80,
   "id": "b61feb54-2d25-4f51-ad38-6da44238a599",
   "metadata": {},
   "outputs": [],
   "source": [
    "p = Person()"
   ]
  },
  {
   "cell_type": "code",
   "execution_count": 81,
   "id": "4eedf9dc-0a81-44fc-9b86-321ecb3a9e75",
   "metadata": {},
   "outputs": [
    {
     "data": {
      "text/plain": [
       "__main__.Person"
      ]
     },
     "execution_count": 81,
     "metadata": {},
     "output_type": "execute_result"
    }
   ],
   "source": [
    "type(p)"
   ]
  },
  {
   "cell_type": "code",
   "execution_count": 82,
   "id": "75e9c736-1ba1-488a-8966-9b6bd9b9dad2",
   "metadata": {
    "scrolled": true
   },
   "outputs": [
    {
     "data": {
      "text/plain": [
       "['__class__',\n",
       " '__delattr__',\n",
       " '__dict__',\n",
       " '__dir__',\n",
       " '__doc__',\n",
       " '__eq__',\n",
       " '__format__',\n",
       " '__ge__',\n",
       " '__getattribute__',\n",
       " '__getstate__',\n",
       " '__gt__',\n",
       " '__hash__',\n",
       " '__init__',\n",
       " '__init_subclass__',\n",
       " '__le__',\n",
       " '__lt__',\n",
       " '__module__',\n",
       " '__ne__',\n",
       " '__new__',\n",
       " '__reduce__',\n",
       " '__reduce_ex__',\n",
       " '__repr__',\n",
       " '__setattr__',\n",
       " '__sizeof__',\n",
       " '__str__',\n",
       " '__subclasshook__',\n",
       " '__weakref__',\n",
       " 'num']"
      ]
     },
     "execution_count": 82,
     "metadata": {},
     "output_type": "execute_result"
    }
   ],
   "source": [
    "dir(p)"
   ]
  },
  {
   "cell_type": "code",
   "execution_count": 83,
   "id": "1ac64fd4-6c7d-48b9-9c05-40e43c8fb86c",
   "metadata": {},
   "outputs": [
    {
     "data": {
      "text/plain": [
       "0"
      ]
     },
     "execution_count": 83,
     "metadata": {},
     "output_type": "execute_result"
    }
   ],
   "source": [
    "p.num"
   ]
  },
  {
   "cell_type": "code",
   "execution_count": 94,
   "id": "df4940bb-a1af-406b-94aa-25cb92be7bf6",
   "metadata": {},
   "outputs": [],
   "source": [
    "class Person:\n",
    "    num = 0\n",
    "    def __init__(self, first, last):\n",
    "        print(first)\n",
    "        print(last)\n",
    "        self.first = first\n",
    "        self.last = last\n"
   ]
  },
  {
   "cell_type": "code",
   "execution_count": 90,
   "id": "4097ab11-ee2f-4131-aa75-e6e68c7107d5",
   "metadata": {},
   "outputs": [
    {
     "name": "stdout",
     "output_type": "stream",
     "text": [
      "John\n",
      "Doe\n"
     ]
    }
   ],
   "source": [
    "p = Person(\"John\", \"Doe\")"
   ]
  },
  {
   "cell_type": "code",
   "execution_count": 91,
   "id": "dd51676f-90ec-4bcd-94cf-aeb0a2edbb69",
   "metadata": {},
   "outputs": [
    {
     "data": {
      "text/plain": [
       "0"
      ]
     },
     "execution_count": 91,
     "metadata": {},
     "output_type": "execute_result"
    }
   ],
   "source": [
    "p.num"
   ]
  },
  {
   "cell_type": "code",
   "execution_count": 92,
   "id": "8acedaa8-c04e-40d5-90c6-b54852734361",
   "metadata": {},
   "outputs": [
    {
     "data": {
      "text/plain": [
       "'John'"
      ]
     },
     "execution_count": 92,
     "metadata": {},
     "output_type": "execute_result"
    }
   ],
   "source": [
    "p.first"
   ]
  },
  {
   "cell_type": "code",
   "execution_count": 93,
   "id": "a45d60d4-f44e-44af-9881-1d7abd4f8082",
   "metadata": {},
   "outputs": [
    {
     "data": {
      "text/plain": [
       "'Doe'"
      ]
     },
     "execution_count": 93,
     "metadata": {},
     "output_type": "execute_result"
    }
   ],
   "source": [
    "p.last"
   ]
  },
  {
   "cell_type": "code",
   "execution_count": 95,
   "id": "17d453c9-56ca-404f-9a55-4e45038c0245",
   "metadata": {},
   "outputs": [
    {
     "name": "stdout",
     "output_type": "stream",
     "text": [
      "<__main__.Person object at 0x108e6cd70>\n"
     ]
    }
   ],
   "source": [
    "print(p)"
   ]
  },
  {
   "cell_type": "code",
   "execution_count": 96,
   "id": "dcf6b8ef-f0af-4b44-b214-0336b6853096",
   "metadata": {},
   "outputs": [
    {
     "data": {
      "text/plain": [
       "'<__main__.Person object at 0x108e6cd70>'"
      ]
     },
     "execution_count": 96,
     "metadata": {},
     "output_type": "execute_result"
    }
   ],
   "source": [
    "str(p)"
   ]
  },
  {
   "cell_type": "code",
   "execution_count": 116,
   "id": "56a4c883-d5e4-4842-b419-d4143e7be547",
   "metadata": {},
   "outputs": [],
   "source": [
    "class Person:\n",
    "    num = 0 # keep count of persons\n",
    "    def __init__(self, first, last):\n",
    "        print(first)\n",
    "        print(last)\n",
    "        self.first = first\n",
    "        self.last = last\n",
    "        Person.num += 1\n",
    "\n",
    "    def __str__(self):\n",
    "        #return self.last + \", \" + self.first\n",
    "        return f\"{self.last}, {self.first}\"\n"
   ]
  },
  {
   "cell_type": "code",
   "execution_count": 117,
   "id": "5e3b82fd-27a0-4d65-94ba-d325f3773ccd",
   "metadata": {},
   "outputs": [
    {
     "name": "stdout",
     "output_type": "stream",
     "text": [
      "John\n",
      "Doe\n",
      "Doe, John\n"
     ]
    }
   ],
   "source": [
    "p = Person(\"John\", \"Doe\")\n",
    "# p is an instance of class Person\n",
    "print(p)"
   ]
  },
  {
   "cell_type": "code",
   "execution_count": 118,
   "id": "7baadf32-55fa-4e9b-8a5f-4786759bb375",
   "metadata": {
    "scrolled": true
   },
   "outputs": [
    {
     "data": {
      "text/plain": [
       "'Doe, John'"
      ]
     },
     "execution_count": 118,
     "metadata": {},
     "output_type": "execute_result"
    }
   ],
   "source": [
    "str(p)"
   ]
  },
  {
   "cell_type": "code",
   "execution_count": 119,
   "id": "eb3d145c-5409-47a2-bf43-edb551118c87",
   "metadata": {},
   "outputs": [
    {
     "data": {
      "text/plain": [
       "'Doe, John'"
      ]
     },
     "execution_count": 119,
     "metadata": {},
     "output_type": "execute_result"
    }
   ],
   "source": [
    "p.__str__()"
   ]
  },
  {
   "cell_type": "code",
   "execution_count": 120,
   "id": "fd3b9b0e-839b-4873-bbf6-4507e7319edc",
   "metadata": {},
   "outputs": [],
   "source": [
    "p.first = \"Johnny\""
   ]
  },
  {
   "cell_type": "code",
   "execution_count": 121,
   "id": "68be2d04-0cf8-4486-a850-eaf5dde98518",
   "metadata": {},
   "outputs": [
    {
     "name": "stdout",
     "output_type": "stream",
     "text": [
      "Doe, Johnny\n"
     ]
    }
   ],
   "source": [
    "print(p)"
   ]
  },
  {
   "cell_type": "code",
   "execution_count": 122,
   "id": "6972220a-590d-44b1-8f20-32d4da7651de",
   "metadata": {},
   "outputs": [
    {
     "data": {
      "text/plain": [
       "['__class__',\n",
       " '__delattr__',\n",
       " '__dict__',\n",
       " '__dir__',\n",
       " '__doc__',\n",
       " '__eq__',\n",
       " '__format__',\n",
       " '__ge__',\n",
       " '__getattribute__',\n",
       " '__getstate__',\n",
       " '__gt__',\n",
       " '__hash__',\n",
       " '__init__',\n",
       " '__init_subclass__',\n",
       " '__le__',\n",
       " '__lt__',\n",
       " '__module__',\n",
       " '__ne__',\n",
       " '__new__',\n",
       " '__reduce__',\n",
       " '__reduce_ex__',\n",
       " '__repr__',\n",
       " '__setattr__',\n",
       " '__sizeof__',\n",
       " '__str__',\n",
       " '__subclasshook__',\n",
       " '__weakref__',\n",
       " 'first',\n",
       " 'last',\n",
       " 'num']"
      ]
     },
     "execution_count": 122,
     "metadata": {},
     "output_type": "execute_result"
    }
   ],
   "source": [
    "dir(p)"
   ]
  },
  {
   "cell_type": "code",
   "execution_count": 123,
   "id": "f8a5799f-0055-4407-aebe-efeca873b905",
   "metadata": {},
   "outputs": [],
   "source": [
    "# first, last are instance attributes\n",
    "# num is a class attribute"
   ]
  },
  {
   "cell_type": "code",
   "execution_count": 124,
   "id": "3237622b-360c-40e5-bde7-a3c5f8ab85f5",
   "metadata": {},
   "outputs": [
    {
     "data": {
      "text/plain": [
       "1"
      ]
     },
     "execution_count": 124,
     "metadata": {},
     "output_type": "execute_result"
    }
   ],
   "source": [
    "Person.num"
   ]
  },
  {
   "cell_type": "code",
   "execution_count": 125,
   "id": "227c3ae3-677b-4d78-8c6b-09c0bdbf032f",
   "metadata": {},
   "outputs": [
    {
     "data": {
      "text/plain": [
       "1"
      ]
     },
     "execution_count": 125,
     "metadata": {},
     "output_type": "execute_result"
    }
   ],
   "source": [
    "p.num"
   ]
  },
  {
   "cell_type": "code",
   "execution_count": 126,
   "id": "34ae8640-698d-4778-8edf-f77d45915ec8",
   "metadata": {},
   "outputs": [
    {
     "name": "stdout",
     "output_type": "stream",
     "text": [
      "Jane\n",
      "Smith\n"
     ]
    }
   ],
   "source": [
    "q = Person(\"Jane\", \"Smith\")"
   ]
  },
  {
   "cell_type": "code",
   "execution_count": 127,
   "id": "4480c96f-4a08-4338-b4d5-52d0384c0093",
   "metadata": {},
   "outputs": [
    {
     "name": "stdout",
     "output_type": "stream",
     "text": [
      "Smith, Jane\n"
     ]
    }
   ],
   "source": [
    "print(q)"
   ]
  },
  {
   "cell_type": "code",
   "execution_count": 128,
   "id": "2b2e2616-3c79-41ec-9dbc-4dadf76e0a01",
   "metadata": {},
   "outputs": [
    {
     "data": {
      "text/plain": [
       "2"
      ]
     },
     "execution_count": 128,
     "metadata": {},
     "output_type": "execute_result"
    }
   ],
   "source": [
    "Person.num"
   ]
  },
  {
   "cell_type": "code",
   "execution_count": 129,
   "id": "d71765d1-af35-4adc-8c8d-e2596debd0fa",
   "metadata": {},
   "outputs": [
    {
     "data": {
      "text/plain": [
       "2"
      ]
     },
     "execution_count": 129,
     "metadata": {},
     "output_type": "execute_result"
    }
   ],
   "source": [
    "p.num"
   ]
  },
  {
   "cell_type": "code",
   "execution_count": 130,
   "id": "cad451cf-7c01-4d8e-ba52-801c1cba99ed",
   "metadata": {},
   "outputs": [
    {
     "data": {
      "text/plain": [
       "2"
      ]
     },
     "execution_count": 130,
     "metadata": {},
     "output_type": "execute_result"
    }
   ],
   "source": [
    "q.num"
   ]
  },
  {
   "cell_type": "code",
   "execution_count": 138,
   "id": "6e1a4de4-c640-4d82-b882-c46d5d994477",
   "metadata": {},
   "outputs": [],
   "source": [
    "class Person:\n",
    "    num = 0 # keep count of persons\n",
    "    def __init__(self, first, last):\n",
    "        print(first)\n",
    "        print(last)\n",
    "        self.first = first\n",
    "        self.last = last\n",
    "        Person.num += 1\n",
    "        self.num = Person.num\n",
    "\n",
    "    def __str__(self):\n",
    "        #return self.last + \", \" + self.first\n",
    "        return f\"{self.last}, {self.first}\"\n",
    "\n",
    "    def __repr__(self):\n",
    "        return f'Person(\"{self.first}\", \"{self.last}\")'"
   ]
  },
  {
   "cell_type": "code",
   "execution_count": 139,
   "id": "5bed9636-8906-4907-8462-54a1a94fafe1",
   "metadata": {},
   "outputs": [
    {
     "name": "stdout",
     "output_type": "stream",
     "text": [
      "John\n",
      "Doe\n"
     ]
    }
   ],
   "source": [
    "p = Person(\"John\", \"Doe\")"
   ]
  },
  {
   "cell_type": "code",
   "execution_count": 140,
   "id": "6982222f-1092-4964-962e-6ed5eeb8e232",
   "metadata": {},
   "outputs": [
    {
     "name": "stdout",
     "output_type": "stream",
     "text": [
      "Doe, John\n"
     ]
    }
   ],
   "source": [
    "print(p)"
   ]
  },
  {
   "cell_type": "code",
   "execution_count": 141,
   "id": "d6e2faf6-fea6-4f94-bf15-766338122c70",
   "metadata": {},
   "outputs": [
    {
     "data": {
      "text/plain": [
       "'Person(\"John\", \"Doe\")'"
      ]
     },
     "execution_count": 141,
     "metadata": {},
     "output_type": "execute_result"
    }
   ],
   "source": [
    "repr(p)"
   ]
  },
  {
   "cell_type": "code",
   "execution_count": 142,
   "id": "e236ece4-10c7-42e5-958d-1c61dbcbc728",
   "metadata": {},
   "outputs": [
    {
     "name": "stdout",
     "output_type": "stream",
     "text": [
      "Jane\n",
      "Smith\n"
     ]
    }
   ],
   "source": [
    "q = Person(\"Jane\", \"Smith\")"
   ]
  },
  {
   "cell_type": "code",
   "execution_count": 143,
   "id": "874c0eca-cacb-4aeb-b11f-913c6143f4a0",
   "metadata": {},
   "outputs": [
    {
     "data": {
      "text/plain": [
       "Person(\"Jane\", \"Smith\")"
      ]
     },
     "execution_count": 143,
     "metadata": {},
     "output_type": "execute_result"
    }
   ],
   "source": [
    "q"
   ]
  },
  {
   "cell_type": "code",
   "execution_count": 144,
   "id": "be3a159d-6a8f-4db1-8090-6bf6d4bf33aa",
   "metadata": {},
   "outputs": [
    {
     "data": {
      "text/plain": [
       "[Person(\"John\", \"Doe\"), Person(\"Jane\", \"Smith\")]"
      ]
     },
     "execution_count": 144,
     "metadata": {},
     "output_type": "execute_result"
    }
   ],
   "source": [
    "[p, q]"
   ]
  },
  {
   "cell_type": "code",
   "execution_count": 145,
   "id": "609fa3e3-2ab3-48f2-bd55-5366eb88df4c",
   "metadata": {},
   "outputs": [
    {
     "data": {
      "text/plain": [
       "2"
      ]
     },
     "execution_count": 145,
     "metadata": {},
     "output_type": "execute_result"
    }
   ],
   "source": [
    "Person.num"
   ]
  },
  {
   "cell_type": "code",
   "execution_count": 146,
   "id": "e0de143b-8fd6-4de6-9c43-3a1c1943b38b",
   "metadata": {},
   "outputs": [
    {
     "data": {
      "text/plain": [
       "1"
      ]
     },
     "execution_count": 146,
     "metadata": {},
     "output_type": "execute_result"
    }
   ],
   "source": [
    "p.num"
   ]
  },
  {
   "cell_type": "code",
   "execution_count": 147,
   "id": "f10d5a8e-1366-46cb-95e6-e0c39c872968",
   "metadata": {},
   "outputs": [
    {
     "data": {
      "text/plain": [
       "2"
      ]
     },
     "execution_count": 147,
     "metadata": {},
     "output_type": "execute_result"
    }
   ],
   "source": [
    "q.num"
   ]
  },
  {
   "cell_type": "markdown",
   "id": "5a133769-d7ee-47d7-8818-0cd42836d2b3",
   "metadata": {},
   "source": [
    "## context managers"
   ]
  },
  {
   "cell_type": "code",
   "execution_count": 151,
   "id": "9de97011-a002-44ea-b8ea-8cf613ad5dff",
   "metadata": {},
   "outputs": [],
   "source": [
    "# files\n",
    "\n",
    "f = open('hello.txt', 'w')\n",
    "f.write(\"Hello world\")\n",
    "f.close()"
   ]
  },
  {
   "cell_type": "code",
   "execution_count": 154,
   "id": "d9cf2b7e-d2d6-438a-be3f-13d7fe2d9a70",
   "metadata": {},
   "outputs": [],
   "source": [
    "# same thing with context manager\n",
    "with open('hello.txt', 'w') as f:\n",
    "    f.write('hello.txt')"
   ]
  },
  {
   "cell_type": "code",
   "execution_count": 162,
   "id": "08b9c9a3-3ed1-479d-a6f3-89a8cfbebe3c",
   "metadata": {},
   "outputs": [],
   "source": [
    "class HTMLwriter:\n",
    "    def __init__(self, filename):\n",
    "        #self.file = open(filename, 'w')\n",
    "        self.filename = filename\n",
    "\n",
    "    def __enter__(self):\n",
    "        self.file = open(self.filename, 'w')\n",
    "        return self\n",
    "\n",
    "    def write(self, text):\n",
    "        self.file.write(f'<p>{text}</p>\\n')\n",
    "\n",
    "    def __exit__(self, *args):\n",
    "        self.file.close()\n",
    "\n",
    "\n",
    "with HTMLwriter('hello.html') as f:\n",
    "    f.write('Hello html')\n",
    "\n"
   ]
  },
  {
   "cell_type": "markdown",
   "id": "ddd41984-58b9-4003-ad49-1cce43f0dfa2",
   "metadata": {},
   "source": [
    "## iteration"
   ]
  },
  {
   "cell_type": "code",
   "execution_count": 163,
   "id": "a4d5f6bd-a31d-47b3-bedc-c3493147c3e1",
   "metadata": {},
   "outputs": [],
   "source": [
    "# dictionaries \n",
    "dct = {'a':1, 'b':2}\n"
   ]
  },
  {
   "cell_type": "code",
   "execution_count": 165,
   "id": "9e1a33e8-0db5-43d8-8a4a-42948df8f77b",
   "metadata": {},
   "outputs": [
    {
     "name": "stdout",
     "output_type": "stream",
     "text": [
      "a -> 1\n",
      "b -> 2\n"
     ]
    }
   ],
   "source": [
    "for key in dct:\n",
    "    value = dct[key]\n",
    "    print(key, '->', value)"
   ]
  },
  {
   "cell_type": "code",
   "execution_count": 168,
   "id": "d9719d12-e562-45e4-b909-355c31d2d9a2",
   "metadata": {},
   "outputs": [
    {
     "name": "stdout",
     "output_type": "stream",
     "text": [
      "a -> 1\n",
      "b -> 2\n"
     ]
    }
   ],
   "source": [
    "for pair in dct.items():\n",
    "    key, value = pair\n",
    "    print(key, '->', value)\n",
    "    "
   ]
  },
  {
   "cell_type": "code",
   "execution_count": 170,
   "id": "ebaf6425-d5d9-4177-8a8a-b341ceae88d3",
   "metadata": {},
   "outputs": [
    {
     "name": "stdout",
     "output_type": "stream",
     "text": [
      "<p>Hello html</p>\n",
      "\n"
     ]
    }
   ],
   "source": [
    "for line in open('hello.html'):\n",
    "    print(line)"
   ]
  },
  {
   "cell_type": "code",
   "execution_count": 171,
   "id": "bd7d9a5c-fd36-417a-9359-71e085aba574",
   "metadata": {},
   "outputs": [
    {
     "ename": "TypeError",
     "evalue": "'int' object is not iterable",
     "output_type": "error",
     "traceback": [
      "\u001b[0;31m---------------------------------------------------------------------------\u001b[0m",
      "\u001b[0;31mTypeError\u001b[0m                                 Traceback (most recent call last)",
      "Cell \u001b[0;32mIn[171], line 1\u001b[0m\n\u001b[0;32m----> 1\u001b[0m \u001b[38;5;28;01mfor\u001b[39;00m x \u001b[38;5;129;01min\u001b[39;00m \u001b[38;5;241m1\u001b[39m:\n\u001b[1;32m      2\u001b[0m     \u001b[38;5;28;01mpass\u001b[39;00m\n",
      "\u001b[0;31mTypeError\u001b[0m: 'int' object is not iterable"
     ]
    }
   ],
   "source": [
    "for x in 1:\n",
    "    pass"
   ]
  },
  {
   "cell_type": "code",
   "execution_count": 172,
   "id": "150484de-9135-4f4e-aa43-0101c56fedb2",
   "metadata": {},
   "outputs": [],
   "source": [
    "def g(n):\n",
    "    print(\"entering g\")\n",
    "    yield n\n",
    "    print(\"after yield\")"
   ]
  },
  {
   "cell_type": "code",
   "execution_count": 173,
   "id": "d09f1561-a843-43f8-9543-10f4b0eecc24",
   "metadata": {},
   "outputs": [],
   "source": [
    "g2 = g(2)"
   ]
  },
  {
   "cell_type": "code",
   "execution_count": 174,
   "id": "61eacec5-8402-475c-ab15-78f8822367fd",
   "metadata": {},
   "outputs": [
    {
     "name": "stdout",
     "output_type": "stream",
     "text": [
      "entering g\n"
     ]
    },
    {
     "data": {
      "text/plain": [
       "2"
      ]
     },
     "execution_count": 174,
     "metadata": {},
     "output_type": "execute_result"
    }
   ],
   "source": [
    "next(g2)"
   ]
  },
  {
   "cell_type": "code",
   "execution_count": 175,
   "id": "397bcef3-81a5-407a-b2b4-fc36913d74c5",
   "metadata": {},
   "outputs": [
    {
     "name": "stdout",
     "output_type": "stream",
     "text": [
      "after yield\n"
     ]
    },
    {
     "ename": "StopIteration",
     "evalue": "",
     "output_type": "error",
     "traceback": [
      "\u001b[0;31m---------------------------------------------------------------------------\u001b[0m",
      "\u001b[0;31mStopIteration\u001b[0m                             Traceback (most recent call last)",
      "Cell \u001b[0;32mIn[175], line 1\u001b[0m\n\u001b[0;32m----> 1\u001b[0m \u001b[38;5;28mnext\u001b[39m(g2)\n",
      "\u001b[0;31mStopIteration\u001b[0m: "
     ]
    }
   ],
   "source": [
    "next(g2)"
   ]
  },
  {
   "cell_type": "code",
   "execution_count": 176,
   "id": "aa72dba4-a26c-41a2-bc7c-87b9d2dc5cef",
   "metadata": {},
   "outputs": [
    {
     "name": "stdout",
     "output_type": "stream",
     "text": [
      "entering g\n",
      "3\n",
      "after yield\n"
     ]
    }
   ],
   "source": [
    "for x in g(3):\n",
    "    print(x)"
   ]
  },
  {
   "cell_type": "code",
   "execution_count": 177,
   "id": "18e72297-2e28-4048-9feb-738c57633a6c",
   "metadata": {},
   "outputs": [],
   "source": [
    "def myrange(n):\n",
    "    i = 0\n",
    "    while i < n:\n",
    "        yield i\n",
    "        i += 1"
   ]
  },
  {
   "cell_type": "code",
   "execution_count": 178,
   "id": "88e8397f-ec56-4f3e-8eeb-9c1154df3732",
   "metadata": {},
   "outputs": [
    {
     "data": {
      "text/plain": [
       "[0, 1, 2, 3, 4]"
      ]
     },
     "execution_count": 178,
     "metadata": {},
     "output_type": "execute_result"
    }
   ],
   "source": [
    "list(myrange(5))"
   ]
  },
  {
   "cell_type": "code",
   "execution_count": 181,
   "id": "f6031d10-21f8-4b33-8d0d-31143a1f6f3e",
   "metadata": {},
   "outputs": [
    {
     "data": {
      "text/plain": [
       "[0,\n",
       " 1,\n",
       " 1,\n",
       " 2,\n",
       " 3,\n",
       " 5,\n",
       " 8,\n",
       " 13,\n",
       " 21,\n",
       " 34,\n",
       " 55,\n",
       " 89,\n",
       " 144,\n",
       " 233,\n",
       " 377,\n",
       " 610,\n",
       " 987,\n",
       " 1597,\n",
       " 2584,\n",
       " 4181]"
      ]
     },
     "execution_count": 181,
     "metadata": {},
     "output_type": "execute_result"
    }
   ],
   "source": [
    "# the first n fibonacci number\n",
    "\n",
    "def fib(n):\n",
    "    a = 0\n",
    "    b = 1\n",
    "    i = 0\n",
    "    while i < n:\n",
    "        yield a\n",
    "        a, b = b, a + b\n",
    "        i += 1\n",
    "\n",
    "\n",
    "list(fib(20))"
   ]
  },
  {
   "cell_type": "markdown",
   "id": "8cec4a70-f30d-4559-9c1e-c83b01f5115d",
   "metadata": {},
   "source": [
    "## Decorators"
   ]
  },
  {
   "cell_type": "code",
   "execution_count": 182,
   "id": "f0cc1900-dc9e-4a9b-8bc3-4a88c37564ae",
   "metadata": {},
   "outputs": [],
   "source": [
    "#Example timing"
   ]
  },
  {
   "cell_type": "code",
   "execution_count": 186,
   "id": "23a84b2b-c02b-416a-aa3f-c0910f49f060",
   "metadata": {},
   "outputs": [],
   "source": [
    "import time\n",
    "import math"
   ]
  },
  {
   "cell_type": "code",
   "execution_count": 206,
   "id": "21f8365b-6eb3-4ef8-aeae-832a2b68f880",
   "metadata": {},
   "outputs": [],
   "source": [
    "def slowsqrt(x):\n",
    "    time.sleep(1)\n",
    "    return math.sqrt(x)"
   ]
  },
  {
   "cell_type": "code",
   "execution_count": 207,
   "id": "104a39b6-8afe-4d88-a605-7fc3b00421c7",
   "metadata": {},
   "outputs": [
    {
     "name": "stdout",
     "output_type": "stream",
     "text": [
      "Elapsed time 1.0\n"
     ]
    }
   ],
   "source": [
    "t1 = time.time()\n",
    "slowsqrt(2)\n",
    "t2 = time.time()\n",
    "print(\"Elapsed time\", round(t2-t1, 2))"
   ]
  },
  {
   "cell_type": "code",
   "execution_count": 208,
   "id": "6fe55866-5f75-4234-93dc-963b8dd38b86",
   "metadata": {},
   "outputs": [],
   "source": [
    "# decorator"
   ]
  },
  {
   "cell_type": "code",
   "execution_count": 262,
   "id": "f8e25c01-958a-43ba-967a-b6f64777b92f",
   "metadata": {},
   "outputs": [],
   "source": [
    "timings = []\n",
    "import functools\n",
    "def time_me(function):\n",
    "    @functools.wraps(function) # make sure the original name is passed to the decorated function\n",
    "    def wrapper(*args, **kwargs):\n",
    "        t1 = time.time()\n",
    "        result = function(*args, **kwargs)\n",
    "        t2 = time.time()\n",
    "        timings.append(f\"Elapsed time in {function.__name__}: {round(t2-t1, 2)}\")\n",
    "        return result\n",
    "    return wrapper\n",
    "\n",
    "def debug(function):\n",
    "    @functools.wraps(function)\n",
    "    def wrapper(*args, **kwargs):\n",
    "        print(f'Function {function.__name__} called with positional arguments {args} and keyword arguments {kwargs}')\n",
    "        result = f(*args, **kwargs)\n",
    "        print(f'Function {function.__name__} returns {result}')\n",
    "        return result\n",
    "    return wrapper"
   ]
  },
  {
   "cell_type": "code",
   "execution_count": 263,
   "id": "961a0233-0bc0-446e-96ba-2df2f185dec2",
   "metadata": {},
   "outputs": [
    {
     "name": "stdout",
     "output_type": "stream",
     "text": [
      "Elapsed time in slowsqrt 1.01\n"
     ]
    },
    {
     "data": {
      "text/plain": [
       "1.4142135623730951"
      ]
     },
     "execution_count": 263,
     "metadata": {},
     "output_type": "execute_result"
    }
   ],
   "source": [
    "slowsqrt(2)"
   ]
  },
  {
   "cell_type": "code",
   "execution_count": 256,
   "id": "2cfe796e-aa35-4c5c-859b-72965ded5c47",
   "metadata": {},
   "outputs": [
    {
     "name": "stdout",
     "output_type": "stream",
     "text": [
      "Elapsed time in {f.__name__} 1.0\n",
      "Elapsed time in slowsqrt 1.0\n"
     ]
    },
    {
     "data": {
      "text/plain": [
       "1.4142135623730951"
      ]
     },
     "execution_count": 256,
     "metadata": {},
     "output_type": "execute_result"
    }
   ],
   "source": [
    "time_me(slowsqrt)(2)"
   ]
  },
  {
   "cell_type": "code",
   "execution_count": 264,
   "id": "4f12cfd9-f935-4390-9587-5f187f541550",
   "metadata": {},
   "outputs": [],
   "source": [
    "@time_me\n",
    "def slowsqrt(x):\n",
    "    time.sleep(1)\n",
    "    return math.sqrt(x)"
   ]
  },
  {
   "cell_type": "code",
   "execution_count": 266,
   "id": "d91b9ce5-70e6-4895-b9d8-ad9514f827f8",
   "metadata": {},
   "outputs": [
    {
     "data": {
      "text/plain": [
       "1.4142135623730951"
      ]
     },
     "execution_count": 266,
     "metadata": {},
     "output_type": "execute_result"
    }
   ],
   "source": [
    "slowsqrt(2)"
   ]
  },
  {
   "cell_type": "code",
   "execution_count": 267,
   "id": "4ef7da07-81d9-4a56-a1c2-0650cfc14f02",
   "metadata": {},
   "outputs": [
    {
     "data": {
      "text/plain": [
       "['Elapsed time in slowsqrt: 1.0', 'Elapsed time in slowsqrt: 1.01']"
      ]
     },
     "execution_count": 267,
     "metadata": {},
     "output_type": "execute_result"
    }
   ],
   "source": [
    "timings"
   ]
  },
  {
   "cell_type": "code",
   "execution_count": 260,
   "id": "a29ed4fb-6d9f-476b-9be5-f29d61dccdbd",
   "metadata": {},
   "outputs": [],
   "source": [
    "@debug\n",
    "@time_me\n",
    "def slownorm(x, y, a=1.0):\n",
    "    time.sleep(1)\n",
    "    return a*math.sqrt(x**2 + y**2)"
   ]
  },
  {
   "cell_type": "code",
   "execution_count": 261,
   "id": "f11927c7-ff76-4962-9571-5f2b73188b7a",
   "metadata": {},
   "outputs": [
    {
     "name": "stdout",
     "output_type": "stream",
     "text": [
      "Function slownorm called with positional arguments (1, 2) and keyword arguments {}\n",
      "(1, 2)\n",
      "{}\n",
      "Function slownorm returns None\n"
     ]
    }
   ],
   "source": [
    "slownorm(1, 2)"
   ]
  },
  {
   "cell_type": "code",
   "execution_count": 244,
   "id": "b2797db5-8249-4851-b08b-48d2ecf2ac1c",
   "metadata": {},
   "outputs": [
    {
     "name": "stdout",
     "output_type": "stream",
     "text": [
      "Function slownorm called with positional arguments (1, 2) and keyword arguments {'a': 3.0}\n",
      "Function slownorm returns 6.708203932499369\n",
      "Elapsed time 1.01\n"
     ]
    },
    {
     "data": {
      "text/plain": [
       "6.708203932499369"
      ]
     },
     "execution_count": 244,
     "metadata": {},
     "output_type": "execute_result"
    }
   ],
   "source": [
    "slownorm(1, 2, a=3.0)"
   ]
  },
  {
   "cell_type": "code",
   "execution_count": 225,
   "id": "4daa34c5-dc98-4561-bd57-15f855bc79f1",
   "metadata": {},
   "outputs": [],
   "source": [
    "def f(*args, **kwargs):\n",
    "    print(args)\n",
    "    print(kwargs)"
   ]
  },
  {
   "cell_type": "code",
   "execution_count": 226,
   "id": "87ef33c4-65c1-41e1-bcf4-2a96a046f85c",
   "metadata": {},
   "outputs": [
    {
     "name": "stdout",
     "output_type": "stream",
     "text": [
      "()\n",
      "{}\n"
     ]
    }
   ],
   "source": [
    "f()"
   ]
  },
  {
   "cell_type": "code",
   "execution_count": 228,
   "id": "48c01e4a-b8a5-484e-9d9f-a9717177ce68",
   "metadata": {},
   "outputs": [
    {
     "name": "stdout",
     "output_type": "stream",
     "text": [
      "(1, 2)\n",
      "{'x': 3, 'w': 4}\n"
     ]
    }
   ],
   "source": [
    "f(1, 2, x=3, w=4)"
   ]
  },
  {
   "cell_type": "code",
   "execution_count": 229,
   "id": "83c84301-0b16-419b-b68c-28d4994edb4c",
   "metadata": {},
   "outputs": [
    {
     "name": "stdout",
     "output_type": "stream",
     "text": [
      "Elapsed time 1.01\n"
     ]
    },
    {
     "data": {
      "text/plain": [
       "3.2015621187164243"
      ]
     },
     "execution_count": 229,
     "metadata": {},
     "output_type": "execute_result"
    }
   ],
   "source": [
    "coordinates = (4, 5)\n",
    "scaling = {'a': 0.5}\n",
    "slownorm(*coordinates, **scaling)"
   ]
  },
  {
   "cell_type": "code",
   "execution_count": null,
   "id": "138c9f87-b951-4837-b8b8-b9774ae73b83",
   "metadata": {},
   "outputs": [],
   "source": []
  }
 ],
 "metadata": {
  "kernelspec": {
   "display_name": "Python 3 (ipykernel)",
   "language": "python",
   "name": "python3"
  },
  "language_info": {
   "codemirror_mode": {
    "name": "ipython",
    "version": 3
   },
   "file_extension": ".py",
   "mimetype": "text/x-python",
   "name": "python",
   "nbconvert_exporter": "python",
   "pygments_lexer": "ipython3",
   "version": "3.12.7"
  }
 },
 "nbformat": 4,
 "nbformat_minor": 5
}
